{
 "cells": [
  {
   "cell_type": "code",
   "execution_count": null,
   "metadata": {
    "collapsed": false
   },
   "outputs": [],
   "source": [
    "import sys\n",
    "sys.path.append('../code')\n",
    "from init_mooc_nb import *\n",
    "init_notebook()\n",
    "import itertools\n",
    "import warnings\n",
    "warnings.simplefilter(\"ignore\", UserWarning)\n",
    "\n",
    "# Onsite and hoppings terms for BHZ and QAH model\n",
    "def onsite_BHZ(site, p):\n",
    "    return ((p.M - 4 * p.B) * pauli.s0sz - 4 * p.D * pauli.s0s0\n",
    "            + p.field * site.pos[1] * pauli.s0s0)\n",
    "\n",
    "\n",
    "def hopx_BHZ(site1, site2, p):\n",
    "    return p.B * pauli.s0sz + p.D * pauli.s0s0 + 0.5j * p.A * pauli.szsx\n",
    "\n",
    "\n",
    "def hopy_BHZ(site1, site2, p):\n",
    "    return p.B * pauli.s0sz + p.D * pauli.s0s0 - 0.5j * p.A * pauli.s0sy\n",
    "\n",
    "\n",
    "def weak_hopping_BHZ(site1, site2, p):\n",
    "    return p.t_inter * np.eye(4)\n",
    "\n",
    "\n",
    "def onsite_QAH(site, p):\n",
    "    return (p.mu - 4 * p.B) * pauli.sz + p.field * site.pos[1] * pauli.s0\n",
    "\n",
    "\n",
    "def hopx_QAH(site1, site2, p):\n",
    "    return p.B * pauli.sz + 0.5j * p.A * pauli.sx\n",
    "\n",
    "\n",
    "def hopy_QAH(site1, site2, p):\n",
    "    return p.B * pauli.sz + 0.5j * p.A * pauli.sy\n",
    "\n",
    "\n",
    "def weak_hopping_QAH(site1, site2, p):\n",
    "    return p.t_inter * np.eye(2)\n",
    "\n",
    "# Systems\n",
    "def create_screw_system(L, W, H, xs=None, ys=None, ye=None, pbc=True, model='BHZ'):\n",
    "    \"\"\" Create system with screw dislocation.\n",
    "\n",
    "    Function creates system with a screw dislocation. \n",
    "    L, W, H are dimension of scattering region.\n",
    "    L, W are dimension of cross section. \n",
    "    Leads are attached from top and bottom (0,0,1) direction.\n",
    "\n",
    "    xs, ys, ye describes where disloaction is placed.\n",
    "    \"\"\"\n",
    "    if model == 'BHZ':\n",
    "        onsite, hopx, hopy, weak_hopping = onsite_BHZ, hopx_BHZ,  hopy_BHZ, weak_hopping_BHZ\n",
    "    elif model == 'QAH':\n",
    "        onsite, hopx, hopy, weak_hopping = onsite_QAH, hopx_QAH,  hopy_QAH, weak_hopping_QAH\n",
    "\n",
    "    def shape(pos):\n",
    "        (x, y, z) = pos\n",
    "        return (0 <= x < L) and (0 <= y < W) and (0 <= z < H)\n",
    "\n",
    "    def lead_shape(pos):\n",
    "        (x, y, z) = pos\n",
    "        return (0 <= x < L) and (0 <= y < W)\n",
    "\n",
    "    # calling kwant\n",
    "    lat = kwant.lattice.general(np.identity(3))\n",
    "    syst = kwant.Builder()\n",
    "\n",
    "    sym = kwant.TranslationalSymmetry((0, 0, 1))\n",
    "    lead = kwant.Builder(sym)\n",
    "\n",
    "    # scattering system\n",
    "    syst[lat.shape(shape, (0, 0, 0))] = onsite\n",
    "    syst[kwant.HoppingKind((1, 0, 0), lat)] = hopx\n",
    "    syst[kwant.HoppingKind((0, 1, 0), lat)] = hopy\n",
    "    syst[kwant.HoppingKind((0, 0, 1), lat)] = weak_hopping\n",
    "\n",
    "    # lead system\n",
    "    lead[lat.shape(lead_shape, (0, 0, 0))] = onsite\n",
    "    lead[kwant.HoppingKind((1, 0, 0), lat)] = hopx\n",
    "    lead[kwant.HoppingKind((0, 1, 0), lat)] = hopy\n",
    "    lead[kwant.HoppingKind((0, 0, 1), lat)] = weak_hopping\n",
    "\n",
    "    # defining dislocation\n",
    "    if xs is not None:\n",
    "        for y in range(ys, ye):\n",
    "            for z in range(H):\n",
    "                del syst[lat(xs + 1, y, z), lat(xs, y, z)]\n",
    "\n",
    "            del lead[lat(xs + 1, y, 0), lat(xs, y, 0)]\n",
    "            lead[lat(xs + 1, y, z + 1), lat(xs, y, z)] = hopx\n",
    "\n",
    "        for y, z in itertools.product(range(ys, ye), range(H - 1)):\n",
    "            syst[lat(xs + 1, y, z + 1), lat(xs, y, z)] = hopx\n",
    "\n",
    "    # adding periodic boundary conditions\n",
    "    if pbc:\n",
    "        for x in range(L):\n",
    "            lead[lat(x, 0, 0), lat(x, W - 1, 0)] = hopy\n",
    "            for z in range(H):\n",
    "                syst[lat(x, 0, z), lat(x, W - 1, z)] = hopy\n",
    "\n",
    "        for y in range(W):\n",
    "            lead[lat(0, y, 0), lat(L - 1, y, 0)] = hopx\n",
    "            for z in range(H):\n",
    "                syst[lat(0, y, z), lat(L - 1, y, z)] = hopx\n",
    "\n",
    "    syst.attach_lead(lead)\n",
    "    syst.attach_lead(lead.reversed())\n",
    "\n",
    "    return syst.finalized(), lead\n",
    "\n",
    "\n",
    "def create_edge_dislocation_system(L, W, H, xs=None, ys=None, ye=None, pbc=True, model='BHZ'):\n",
    "    \"\"\" Create system with edge dislocation.\n",
    "\n",
    "    Function creates system with an edge dislocation. \n",
    "    L, W, H are dimension of scattering region.\n",
    "    L, W are dimension of cross section. \n",
    "    Leads are attached from top and bottom (0,0,1) direction.\n",
    "\n",
    "    xs, ys, ye describes where disloaction is placed.\n",
    "    \"\"\"\n",
    "    if model == 'BHZ':\n",
    "        onsite, hopx, hopy, weak_hopping = onsite_BHZ, hopx_BHZ,  hopy_BHZ, weak_hopping_BHZ\n",
    "    elif model == 'QAH':\n",
    "        onsite, hopx, hopy, weak_hopping = onsite_QAH, hopx_QAH,  hopy_QAH, weak_hopping_QAH\n",
    "\n",
    "    def shape(pos):\n",
    "        (x, y, z) = pos\n",
    "        return (0 <= x < L) and (0 <= y < W) and (0 <= z < H)\n",
    "\n",
    "    def lead_shape(pos):\n",
    "        (x, y, z) = pos\n",
    "        return (0 <= x < L) and (0 <= y < W)\n",
    "\n",
    "    # Calling kwant\n",
    "    lat = kwant.lattice.general(np.identity(3))\n",
    "    syst = kwant.Builder()\n",
    "\n",
    "    sym = kwant.TranslationalSymmetry((0, 0, 1))\n",
    "    lead = kwant.Builder(sym)\n",
    "\n",
    "    # scattering system\n",
    "    syst[lat.shape(shape, (0, 0, 0))] = onsite\n",
    "    syst[kwant.HoppingKind((1, 0, 0), lat)] = weak_hopping\n",
    "    syst[kwant.HoppingKind((0, 1, 0), lat)] = hopy\n",
    "    syst[kwant.HoppingKind((0, 0, 1), lat)] = hopx\n",
    "\n",
    "    # lead system\n",
    "    lead[lat.shape(lead_shape, (0, 0, 0))] = onsite\n",
    "    lead[kwant.HoppingKind((1, 0, 0), lat)] = weak_hopping\n",
    "    lead[kwant.HoppingKind((0, 1, 0), lat)] = hopy\n",
    "    lead[kwant.HoppingKind((0, 0, 1), lat)] = hopx\n",
    "\n",
    "    # defining disclocation\n",
    "    if xs != None:\n",
    "        for y in range(ys, ye):\n",
    "            del lead[lat(xs, y, 0)]\n",
    "            lead[lat(xs + 1, y, 0), lat(xs - 1, y, 0)] = weak_hopping\n",
    "\n",
    "            for z in range(H):\n",
    "                del syst[lat(xs, y, z)]\n",
    "                syst[lat(xs + 1, y, z), lat(xs - 1, y, z)] = weak_hopping\n",
    "\n",
    "    # periodic boundary conditions\n",
    "    if pbc:\n",
    "        for x in range(L):\n",
    "            lead[lat(x, 0, 0), lat(x, W - 1, 0)] = hopy\n",
    "            for z in range(H):\n",
    "                syst[lat(x, 0, z), lat(x, W - 1, z)] = hopy\n",
    "\n",
    "        for y in range(W):\n",
    "            lead[lat(0, y, 0), lat(L - 1, y, 0)] = weak_hopping\n",
    "            for z in range(H):\n",
    "                syst[lat(0, y, z), lat(L - 1, y, z)] = weak_hopping\n",
    "\n",
    "    # attaching leads\n",
    "    syst.attach_lead(lead)\n",
    "    syst.attach_lead(lead.reversed())\n",
    "\n",
    "    return syst.finalized(), lead\n",
    "\n",
    "\n",
    "def get_densities(lead, momentum, param, model, sorting_mid=0.0):\n",
    "    \"\"\" Calculate density of states in the lead at a given momentum. \"\"\"\n",
    "    coord = np.array([i.pos for i in lead.sites])\n",
    "    xy = coord[coord[:, 2] == 0][:, :-1]\n",
    "    indxs_xy = np.lexsort(xy.T)\n",
    "    xy = xy[indxs_xy, :]\n",
    "\n",
    "    h, t = lead.cell_hamiltonian(\n",
    "        args=[param]), lead.inter_cell_hopping(args=[param])\n",
    "    h_k = lambda k: h + t * np.exp(-1j * k) + t.T.conj() * np.exp(1j * k)\n",
    "\n",
    "    vals, vecs = np.linalg.eigh(h_k(momentum))\n",
    "\n",
    "    if model == 'BHZ':\n",
    "        num_orbital = 4\n",
    "    if model == 'QAH':\n",
    "        num_orbital = 2\n",
    "\n",
    "    densities = np.linalg.norm(vecs.reshape(-1, num_orbital, len(vecs)), axis=1)**2\n",
    "\n",
    "    indxs = np.argsort(abs(vals - sorting_mid))\n",
    "    vals = vals[indxs]\n",
    "    densities = densities[:, indxs]\n",
    "    densities = densities[indxs_xy, :]\n",
    "\n",
    "    L, W = int(np.max(xy[:, 0]) + 1), int(np.max(xy[:, 1]) + 1)\n",
    "    twod_densities = np.zeros((W, L, densities.shape[1]))\n",
    "\n",
    "    for coord, val in zip(xy, densities):\n",
    "        i, j = np.array(coord, dtype=int)\n",
    "        twod_densities[j, i, :] = val\n",
    "\n",
    "    return twod_densities, vals\n",
    "\n",
    "\n",
    "def get_spectrum_and_densities(sys_func, p, model, momentum, kwargs):\n",
    "    syst, lead = sys_func(L=11, W=21, H=5, xs=4, ys=5, ye=16, model=model)\n",
    "    spect = spectrum(lead, p, **kwargs)\n",
    "    densities = get_densities(syst.leads[0], momentum, p, model)\n",
    "    return spect, densities\n",
    "\n",
    "\n",
    "def create_hm(sys_func, momentum, kwargs):\n",
    "    parameters = {\n",
    "        'BHZ': {'A': 1.0, 'B': 1.0, 'D': 0.0, 'M': 0.8},\n",
    "        'QAH': {'A': 1.0, 'B': 1.0, 'D': 0.0, 'mu': 0.8}}\n",
    "\n",
    "    p_BHZ = SimpleNamespace(field=.005, t_inter=-.1, **parameters['BHZ'])\n",
    "    p_QAH = SimpleNamespace(field=.01, t_inter=-.1, **parameters['QAH'])\n",
    "\n",
    "    spectrum_QAH, densities_QAH = get_spectrum_and_densities(sys_func, p_QAH, 'QAH', momentum, kwargs)\n",
    "    spectrum_BHZ, densities_BHZ = get_spectrum_and_densities(sys_func, p_BHZ, 'BHZ', momentum, kwargs)\n",
    "\n",
    "    hm_dict = {}\n",
    "    for n in range(7):\n",
    "        for model, density, spect in zip(['BHZ', 'QAH'], \n",
    "                                            [densities_BHZ, densities_QAH], \n",
    "                                            [spectrum_BHZ, spectrum_QAH]):\n",
    "            hm_dict[n, model] = ((spect * \n",
    "                                 holoviews.Points((momentum, density[1][n])) * \n",
    "                                 holoviews.VLine(momentum)).relabel('Bandstructure') + \n",
    "                                 holoviews.Raster(density[0][:, :, n], label=r'$\\left|\\psi\\right|^2$'))\n",
    "\n",
    "\n",
    "    return holoviews.HoloMap(hm_dict, kdims=['n', 'model'])"
   ]
  },
  {
   "cell_type": "markdown",
   "metadata": {},
   "source": [
    "#Table of Contents\n",
    "* [Introduction: weak topological phases](#Introduction:-weak-topological-phases)\n",
    "* [Crystallographic defects and topology](#Crystallographic-defects-and-topology)\n",
    "* [The role of defect dimensionality](#The-role-of-defect-dimensionality)\n",
    "* [The defect topological invariant](#The-defect-topological-invariant)\n",
    "* [Electronic states in dislocations](#Electronic-states-in-dislocations)\n",
    "* [Conclusions](#Conclusions)\n"
   ]
  },
  {
   "cell_type": "markdown",
   "metadata": {},
   "source": [
    "# Introduction: weak topological phases"
   ]
  },
  {
   "cell_type": "markdown",
   "metadata": {},
   "source": [
    "Taylor Hughes from the University of Illinois at Urbana-Champaign will describe the interplay between defects in crystals and weak topological insulators."
   ]
  },
  {
   "cell_type": "code",
   "execution_count": null,
   "metadata": {
    "collapsed": false
   },
   "outputs": [],
   "source": [
    "MoocVideo(\"k3ZKCg7jtTs\", src_location=\"7.2-intro\")"
   ]
  },
  {
   "cell_type": "markdown",
   "metadata": {},
   "source": [
    "As you can see, there is a simple and universal connection between weak topological phases and the ability of defects to carry topologically protected states. The topological invariant $\\mathcal{Q}$ of a dislocation is the number of protected states that it carries. It can be determined from the vector of weak topological invariants, $\\mathbf{\\mathcal{Q}}_\\textrm{weak}$, and the Burgers vector of the dislocation $\\mathbf{B}$:\n",
    "\n",
    "$$\\mathcal{Q} = \\mathbf{\\mathcal{Q}}_\\textrm{weak}\\cdot\\mathbf{B}$$\n",
    "\n",
    "Let us now go through the main points that lead to this conclusion, and argue for why it has to be that way."
   ]
  },
  {
   "cell_type": "markdown",
   "metadata": {},
   "source": [
    "# Crystallographic defects and topology"
   ]
  },
  {
   "cell_type": "markdown",
   "metadata": {},
   "source": [
    "There are many different types of [defects in crystals](http://en.wikipedia.org/wiki/Crystallographic_defect): vacancies, substitutions, grain boundaries, dislocations, and many more.\n",
    "\n",
    "What kinds of defects are important for topology? Consider a vacancy for example:\n",
    "![](figures/Formation_Point_Defect.png)\n",
    "(By Safe cracker (Own work) [CC BY 3.0 (http://creativecommons.org/licenses/by/3.0)], via Wikimedia Commons)"
   ]
  },
  {
   "cell_type": "markdown",
   "metadata": {},
   "source": [
    "To create a vacancy, we need to remove a single atom (or all the atoms following one line). Can this type of defect carry a topologically protected state?\n",
    "\n",
    "We already know that topological protection requires a Hamiltonian that cannot be created locally. For example, in order to create a single Majorana bound state at a phase boundary, another Majorana must appear elsewhere. Removing an atom or a line of atoms only changes the system locally, so the *other* topologically protected state cannot appear anywhere.\n",
    "\n",
    "A simple vacancy is therefore not interesting from a topological point of view. What kinds of topological defects would work then? Crystallographic defects leave nothing different since they leave the bulk Hamiltonian unchanged far away from the defect core. This means we need to do something nontrivial to the crystal so that it cannot be removed locally.\n",
    "\n",
    "Examples of such defects are dislocations:"
   ]
  },
  {
   "cell_type": "markdown",
   "metadata": {},
   "source": [
    "![](figures/burgers_vectors.png)\n",
    "(By David Gabriel García Andrade (Own work) [Public domain], via Wikimedia Commons)"
   ]
  },
  {
   "cell_type": "markdown",
   "metadata": {},
   "source": [
    "In order to create a dislocation we need to cut a crystal along one plane and displace all the atoms along that plane by the *Burgers vector*. This has to be done all the way to the crystal boundary (or infinity in an infinite crystal), so the dislocation affects the entire system. This means that a dislocation cannot be removed locally.\n",
    "\n",
    "As Taylor Hughes explained, a dislocation can be detected infinitely far from its core by going around it and verifying that we don't return to the point of origin. We cannot simply remove a dislocation by locally replacing some atoms. Therefore, it may carry a topologically protected mode.\n",
    "\n",
    "Unsurprisingly, crystallographic defects that cannot be removed locally are called \"topological\", which brings us to the first important conclusion:\n",
    "\n",
    "> *Topological* crystallographic defects are the ones that may carry topologically protected modes.\n",
    "\n",
    "This is a non-trivial observation, even though it sounds tautological. There are two different types of topology involved: the topology of the electronic modes and the topology of the crystal."
   ]
  },
  {
   "cell_type": "markdown",
   "metadata": {},
   "source": [
    "# The role of defect dimensionality"
   ]
  },
  {
   "cell_type": "markdown",
   "metadata": {},
   "source": [
    "When do topological defects carry protected edge states?\n",
    "\n",
    "Far away from the defect, the bulk is homogeneous. Hence, the appearance of an edge state must be encoded both in the properties of the defect and in the bulk Hamiltonian. Of course, the appearance of this state must also be controlled by a topological invariant, since the protected state cannot disappear without the closing of the bulk gap.\n",
    "\n",
    "What kind of topological invariant can this be? Can a strong topological invariant create a protected edge state at a defect?\n",
    "\n",
    "In a sense we already know that it does. We can think of the crystal surface as a defect that breaks translational symmetry, and so it is a crystallographic defect. The strong topological invariant is the quantity that tells us whether or not the bulk can be continuously deformed into vacuum, or equivalently, whether or not the surface can be smoothly removed without closing the bulk gap.\n",
    "\n",
    "In a $d$-dimensional bulk, the strong invariant is responsible for the appearance of a $d-1$-dimensional topologically protected state. This state can only be bound to a surface, which is the only $d-1$-dimensional topological defect. Defects of lower dimensionality can not be impacted by the strong invariant. An example of such a defect of lower dimensionality is precisely a dislocation, as in the previous figure. It is a one-dimensional defect in a three-dimensional crystal.\n",
    "\n",
    "This is where the weak invariants come into play.\n",
    "\n",
    "First of all, we know that the dimensionality $d_\\textrm{egde}$ of a protected state at a defect must match the dimensionality of the defect. Secondly, we know the dimensionality of the topological invariant that controls this protected state: it is the topological invariant in the dimension $d_\\textrm{edge}+1$.\n",
    "\n",
    "The topological invariants with dimensionality $d_{edge}+1$ form a vector or a tensor of the weak indices. The last thing we need to figure out is how to extract information about what happens at the defect from the weak indices."
   ]
  },
  {
   "cell_type": "markdown",
   "metadata": {},
   "source": [
    "# The defect topological invariant"
   ]
  },
  {
   "cell_type": "markdown",
   "metadata": {},
   "source": [
    "We have almost arrived at the criterion for the appearance of protected states in dislocations.\n",
    "\n",
    "To see how the weak topological invariant relates to the number of states in the dislocation, we start by deforming a weak topological insulator into a set of disconnected planes, each carrying protected states. If there is a single state approaching the dislocation, as is shown in the figure below, it cannot backscatter and must therefore continue through the dislocation core."
   ]
  },
  {
   "cell_type": "markdown",
   "metadata": {},
   "source": [
    "![](figures/dislocation_helical.svg)"
   ]
  },
  {
   "cell_type": "markdown",
   "metadata": {},
   "source": [
    "(adapted from Cdang (Own work), via Wikimedia Commons, [CC BY-SA 3.0](http://creativecommons.org/licenses/by-sa/3.0).)"
   ]
  },
  {
   "cell_type": "markdown",
   "metadata": {},
   "source": [
    "Counting the number and the orientation of the crystal planes approaching the core of the dislocation is just the Burgers vector. Hence, the number of edge states entering the dislocation core is the Burgers vector times the number of states per crystal plane. This brings us to the conclusion:\n",
    "\n",
    "$$\\mathcal{Q} = \\mathbf{\\mathcal{Q}}_\\textrm{weak}\\cdot\\mathbf{B}.$$\n",
    "\n",
    "Let's now test this idea and see if we can observe the protected dislocation states."
   ]
  },
  {
   "cell_type": "markdown",
   "metadata": {},
   "source": [
    "# Electronic states in dislocations"
   ]
  },
  {
   "cell_type": "markdown",
   "metadata": {},
   "source": [
    "Now that we know the main concepts, let's apply them to concrete examples. Let's take two models for topological insulators that we already know and apply them to lattice systems with dislocations.\n",
    "\n",
    "We will create a 3D weak topological insulators by stacking many layers of 2D topological insulators along the $z$ direction. For the individual layers, we will use the BHZ model (by the way, note that the lecture today was given by the H of BHZ!) for a time-reversal invariant topological insulator, and the square lattice model for the quantum Hall effect that we used in week 4. In this way, we can study dislocations both with and without time reversal symmetry. In both cases, we take the hoppings between different layers to be relatively weak compared to those within the same layer.\n",
    "\n",
    "Let's start with a screw dislocation connecting two layers. The system looks like this:"
   ]
  },
  {
   "cell_type": "code",
   "execution_count": null,
   "metadata": {
    "collapsed": false
   },
   "outputs": [],
   "source": [
    "# System parameters\n",
    "L = 6\n",
    "W = 7\n",
    "ws = 3\n",
    "xs = 2\n",
    "syst, lead = create_screw_system(L, W, 2, xs=xs, ys=0, ye=W-ws, pbc=False, model='BHZ')\n",
    "\n",
    "fig = plt.figure(figsize=(8, 6))\n",
    "ax = fig.add_subplot(1, 1, 1, projection='3d')\n",
    "kwant.plot(syst, site_size=0.0, site_lw=0.01, hop_lw=0.025, ax=ax, num_lead_cells=0);\n",
    "\n",
    "ax.set_xticks(())\n",
    "ax.set_yticks(())\n",
    "ax.set_zticks(())\n",
    "ax.view_init(50,-110)"
   ]
  },
  {
   "cell_type": "markdown",
   "metadata": {},
   "source": [
    "The Burgers' vector is parallel to $z$ and has unit length - the dislocation connects neighboring layers.\n",
    "\n",
    "The figure above only shows two layers, but we imagine that the system is repeated identically along the $z$ direction. Along the $x$ and $y$ directions it has periodic boundary conditions. Above we only show half of the dislocation.\n",
    "\n",
    "Let's look at the band structure along the $z$ direction, and the wave functions of the corresponding states."
   ]
  },
  {
   "cell_type": "code",
   "execution_count": null,
   "metadata": {
    "collapsed": false
   },
   "outputs": [],
   "source": [
    "%opts Raster(cmap='gist_heat_r' interpolation=None) {+framewise}\n",
    "%opts Points(s=50)\n",
    "\n",
    "kwargs = {'k_x': np.linspace(np.pi - np.pi / 4, np.pi + np.pi / 4, 51),\n",
    "          'ylims': [-0.6, 0.95],\n",
    "          'yticks': [-0.5, 0, 0.5],\n",
    "          'xticks': [(np.pi - np.pi / 4, r'$\\pi-\\pi/4$'), (np.pi, r'$\\pi$'), (np.pi + np.pi / 4, r'$\\pi+\\pi/4$')]}\n",
    "\n",
    "create_hm(create_screw_system, momentum=np.pi + 0.1, kwargs=kwargs).collate()"
   ]
  },
  {
   "cell_type": "markdown",
   "metadata": {},
   "source": [
    "You see that the band structure is gapless: because of the presence of the dislocation, there are states dispersing below the bulk gap along the $z$ direction.\n",
    "\n",
    "A look at their wave functions in the right panel shows that in the $x$-$y$ plane, these low-energy states are localized around the end points of the dislocation (we show the wave function corresponding to the blue dot in the band structure plot). On the other hand, when you look at the wave function of states above the gap, you see that they are spread out the whole $x$-$y$ plane.\n",
    "\n",
    "Here, the fundamental difference between the BHZ model and the quantum anomalous Hall case is that in the former, the gapless states at the dislocation are helical, while in the latter they are chiral.\n",
    "\n",
    "We can also look at an edge dislocation:"
   ]
  },
  {
   "cell_type": "code",
   "execution_count": null,
   "metadata": {
    "collapsed": false
   },
   "outputs": [],
   "source": [
    "# System parameters\n",
    "L = 7\n",
    "W = 7\n",
    "ws = 3\n",
    "xs = 3\n",
    "syst, lead = create_edge_dislocation_system(L, W, 2, xs=xs, ys=0, ye=W - ws, pbc=False, model='BHZ')\n",
    "\n",
    "\n",
    "fig = plt.figure(figsize=(8, 6))\n",
    "ax = fig.add_subplot(1, 1, 1, projection='3d')\n",
    "\n",
    "kwant.plot(syst, site_size=0.0, site_lw=0.01, hop_lw=0.025, ax=ax, num_lead_cells=0)\n",
    "\n",
    "ax.set_xticks(())\n",
    "ax.set_yticks(())\n",
    "ax.set_zticks(())\n",
    "ax.view_init(50, -110)"
   ]
  },
  {
   "cell_type": "markdown",
   "metadata": {},
   "source": [
    "The Burgers vector is now along the $y$ direction, and it still has unit length. The band structure and the wave function plots show similar behavior."
   ]
  },
  {
   "cell_type": "code",
   "execution_count": null,
   "metadata": {
    "collapsed": false
   },
   "outputs": [],
   "source": [
    "%opts Raster(cmap='gist_heat_r' interpolation=None) {+framewise}\n",
    "%opts Points(s=50)\n",
    "\n",
    "kwargs = {'k_x': np.linspace(-np.pi / 4, np.pi / 4, 51),\n",
    "          'ylims': [-0.6, 0.95],\n",
    "          'yticks': [-0.5, 0, 0.5],\n",
    "          'xticks': [(-np.pi / 4, r'$-\\pi/4$'), (0, r'$0$'), (np.pi / 4, r'$\\pi/4$')]}\n",
    "\n",
    "create_hm(create_edge_dislocation_system, momentum=0.1, kwargs=kwargs).collate()"
   ]
  },
  {
   "cell_type": "code",
   "execution_count": null,
   "metadata": {
    "collapsed": false
   },
   "outputs": [],
   "source": [
    "question = (\"What would happen in both simulations above if we changed the dislocation, \"\n",
    "            \"making the Burgers vector twice as long?\")\n",
    "\n",
    "answers = [\"The wave function would just spread out a bit more because the dislocation is larger.\",\n",
    "           \"The number of gapless states would double for both models.\",\n",
    "           \"The gapless states would be gapped out for both models.\",\n",
    "           \"The dislocation would only have gapless states in the quantum anomalous Hall case, not for the BHZ model.\"]\n",
    "\n",
    "explanation = (\"Doubling the Burgers vector doubles the topological invariant in the $\\mathbb{Z}$ case, \"\n",
    "               \"and changes it from non-trivial to trivial in the $\\mathbb{Z}_2$ case.\")\n",
    "\n",
    "MoocMultipleChoiceAssessment(question=question, answers=answers, correct_answer=3, explanation=explanation)"
   ]
  },
  {
   "cell_type": "markdown",
   "metadata": {},
   "source": [
    "# Conclusions"
   ]
  },
  {
   "cell_type": "code",
   "execution_count": null,
   "metadata": {
    "collapsed": false
   },
   "outputs": [],
   "source": [
    "MoocVideo(\"MvcvJiZYSSk\", src_location=\"7.2-summary\")"
   ]
  },
  {
   "cell_type": "markdown",
   "metadata": {},
   "source": [
    "Questions about what you just learned? Ask them below!"
   ]
  },
  {
   "cell_type": "code",
   "execution_count": null,
   "metadata": {
    "collapsed": false
   },
   "outputs": [],
   "source": [
    "MoocDiscussion(\"Questions\", \"Crystalline defects\")"
   ]
  }
 ],
 "metadata": {
  "kernelspec": {
   "display_name": "Python 3",
   "language": "python",
   "name": "python3"
  },
  "language_info": {
   "codemirror_mode": {
    "name": "ipython",
    "version": 3
   },
   "file_extension": ".py",
   "mimetype": "text/x-python",
   "name": "python",
   "nbconvert_exporter": "python",
   "pygments_lexer": "ipython3"
  }
 },
 "nbformat": 4,
 "nbformat_minor": 0
}
