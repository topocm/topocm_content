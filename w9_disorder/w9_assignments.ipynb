{
 "cells": [
  {
   "cell_type": "code",
   "execution_count": null,
   "metadata": {
    "collapsed": false
   },
   "outputs": [],
   "source": [
    "import sys\n",
    "sys.path.append('../code')\n",
    "from init_mooc_nb import *\n",
    "init_notebook()"
   ]
  },
  {
   "cell_type": "markdown",
   "metadata": {},
   "source": [
    "#Table of Contents\n",
    "#Table of Contents\n",
    "* [Simulations](#Simulations)\n",
    "\t* [1D localization](#1D-localization)\n",
    "\t* [Griffiths phase](#Griffiths-phase)\n",
    "* [Review assignment](#Review-assignment)\n"
   ]
  },
  {
   "cell_type": "markdown",
   "metadata": {},
   "source": [
    "# Simulations"
   ]
  },
  {
   "cell_type": "markdown",
   "metadata": {},
   "source": [
    "## 1D localization"
   ]
  },
  {
   "cell_type": "markdown",
   "metadata": {},
   "source": [
    "As usual, start by grabbing the notebooks of this week (`w9_disorder`). They are once again over [here](http://tiny.cc/topocm_smc)."
   ]
  },
  {
   "cell_type": "markdown",
   "metadata": {},
   "source": [
    "Our aim now is to verify that Anderson localization works in one-dimensional systems."
   ]
  },
  {
   "cell_type": "markdown",
   "metadata": {},
   "source": [
    "Simulate the Anderson model of a ribbon of appropriate and large width $W$  as a function of length $L$.\n",
    "\n",
    "Anderson model is just the simpest [tight binding model on a square lattice](http://kwant-project.org/doc/1.0/tutorial/tutorial1) with random onsite potential.\n",
    "\n",
    "Tune your model in the clean limit such that it has a relatively large number of modes (at least 3). Then calculate conductance as a function of $L$ at a finite disorder, while keeping $W$ constant.\n",
    "\n",
    "The weak disorder regime should look ohmic or classical i.e $g \\sim N_{ch}\\lambda_{MFP}/L$. Here $\\lambda_{MFP}$ is the mean free path, and $N_{ch}$ is the number of channels. \n",
    "\n",
    "First, verify that when $g \\gtrsim 1$ you observe the classical behavior and evaluate the mean free path.\n",
    "\n",
    "Verify that the scaling also holds for different disorder strengths and different widths."
   ]
  },
  {
   "cell_type": "markdown",
   "metadata": {},
   "source": [
    "Examine the plot for larger $L$, but this time plot $\\textrm{ln}(g)$ to verify that at large $L$ the conductance $g$ goes as $g \\sim \\exp(-L/\\xi)$. Try to guess how $\\xi$ is related to $\\lambda_{MFP}$ by comparing the numbers you get from the plot in this part and the previous.\n",
    "\n",
    "Check what happens when you reduce the disorder? Is there sign of a insulator- metal transition at lower disorder?"
   ]
  },
  {
   "cell_type": "markdown",
   "metadata": {},
   "source": [
    "## Griffiths phase"
   ]
  },
  {
   "cell_type": "markdown",
   "metadata": {},
   "source": [
    "A disordered Kitaev chain has a peculiar property. Close to the transition point it can have infinite density of states even despite it is insulating.\n",
    "\n",
    "Calculate the energies of all the states in a finite Kitaev chain with disorder. You'll need to get the Hamiltonian of the chain by using `syst.hamiltonian_submatrix` method, and diagonalize it (check the very beginning of the course if you don't remember how to diagonalize matrices).\n",
    "\n",
    "Do so for many disorder realizations, and build a histograph of the density of states for different values of average $m$ and of disorder strengh around the critical point $m=0$."
   ]
  },
  {
   "cell_type": "markdown",
   "metadata": {},
   "source": [
    "If all goes well, you should observe different behaviors: the density of states in a finite region around $m=0$ has a weak power law divergence, that eventually turns into an actual gap. Check out this paper for details: "
   ]
  },
  {
   "cell_type": "code",
   "execution_count": null,
   "metadata": {
    "collapsed": false
   },
   "outputs": [],
   "source": [
    "PreprintReference(\"cond-mat/0011200\", show_abstract=False)"
   ]
  },
  {
   "cell_type": "code",
   "execution_count": null,
   "metadata": {
    "collapsed": false
   },
   "outputs": [],
   "source": [
    "MoocSelfAssessment()"
   ]
  },
  {
   "cell_type": "markdown",
   "metadata": {},
   "source": [
    "**Now share your results:**"
   ]
  },
  {
   "cell_type": "code",
   "execution_count": null,
   "metadata": {
    "collapsed": false
   },
   "outputs": [],
   "source": [
    "MoocDiscussion('Labs', 'Disorder')"
   ]
  },
  {
   "cell_type": "markdown",
   "metadata": {},
   "source": [
    "# Review assignment"
   ]
  },
  {
   "cell_type": "code",
   "execution_count": null,
   "metadata": {
    "collapsed": false
   },
   "outputs": [],
   "source": [
    "display_html(PreprintReference('0908.0881', description=\"The topological Anderson insulator\"))\n",
    "display_html(PreprintReference('0705.0886', description=\"One-parameter scaling in graphene\"))\n",
    "display_html(PreprintReference('0705.1607', description=\"Scaling with Dirac fermions\"))\n",
    "display_html(PreprintReference('1208.3442', description=\"The average symmetry and weak transitions\"))\n",
    "display_html(PreprintReference('1411.5992', description=(\"A technical paper about localization in 1D, \"\n",
    "                                                        \"but you don't need to follow the calculations.\")))"
   ]
  },
  {
   "cell_type": "markdown",
   "metadata": {},
   "source": [
    "### Bonus: Find your own paper to review!\n",
    "\n",
    "Do you know of another paper that fits into the topics of this week, and you think is good?\n",
    "Then you can get bonus points by reviewing that paper instead!"
   ]
  },
  {
   "cell_type": "code",
   "execution_count": null,
   "metadata": {
    "collapsed": false
   },
   "outputs": [],
   "source": [
    "MoocPeerAssessment()"
   ]
  },
  {
   "cell_type": "markdown",
   "metadata": {},
   "source": [
    "**Do you have questions about what you read? Would you like to suggest other papers? Tell us:**"
   ]
  },
  {
   "cell_type": "code",
   "execution_count": null,
   "metadata": {
    "collapsed": false
   },
   "outputs": [],
   "source": [
    "MoocDiscussion(\"Reviews\", \"Disorder\")"
   ]
  }
 ],
 "metadata": {
  "kernelspec": {
   "display_name": "Python 3",
   "language": "python",
   "name": "python3"
  },
  "language_info": {
   "codemirror_mode": {
    "name": "ipython",
    "version": 3
   },
   "file_extension": ".py",
   "mimetype": "text/x-python",
   "name": "python",
   "nbconvert_exporter": "python",
   "pygments_lexer": "ipython3"
  }
 },
 "nbformat": 4,
 "nbformat_minor": 0
}
