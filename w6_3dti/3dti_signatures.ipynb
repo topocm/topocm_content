{
 "cells": [
  {
   "cell_type": "code",
   "execution_count": null,
   "metadata": {
    "collapsed": false
   },
   "outputs": [],
   "source": [
    "import sys\n",
    "sys.path.append('../code')\n",
    "from init_mooc_nb import *\n",
    "init_notebook()\n",
    "\n",
    "import scipy\n",
    "import scipy.linalg as sla\n",
    "from matplotlib import cm\n",
    "\n",
    "\n",
    "import warnings\n",
    "warnings.simplefilter(\"ignore\", UserWarning)\n",
    "\n",
    "def bhz(L, W, H, system_type):\n",
    "    \"\"\"A cuboid region of BHZ material with two leads attached.\n",
    "    \n",
    "    parameters for leads and scattering region can be defined separately\n",
    "    \"\"\"\n",
    "    # Onsite and hoppings matrices used for building BHZ model\n",
    "    def onsite(site, p):\n",
    "        return (p.C + 2 * p.D1 + 4 * p.D2) * pauli.s0s0 + (p.M + 2 * p.B1 + 4 * p.B2) * pauli.s0sz\n",
    "\n",
    "    def hopx(site1, site2, p):\n",
    "        return - p.D2 * pauli.s0s0 - p.B2 * pauli.s0sz + p.A2 * 0.5j * pauli.sxsx\n",
    "\n",
    "    def hopy(site1, site2, p):\n",
    "        return - p.D2 * pauli.s0s0 - p.B2 * pauli.s0sz + p.A2 * 0.5j * pauli.sysx\n",
    "\n",
    "    def hopz(site1, site2, p):\n",
    "        return - p.D1 * pauli.s0s0 - p.B1 * pauli.s0sz + p.A1 * 0.5j * pauli.szsx\n",
    "\n",
    "    def shape_lead(pos):\n",
    "        (x, y, z) = pos\n",
    "        return (0 <= z < H) and (0 <= y < W)\n",
    "\n",
    "    def shape_syst(pos):\n",
    "        (x, y, z) = pos\n",
    "        return (0 <= z < H) and (0 <= y < W) and (0 <= x < L)\n",
    "\n",
    "    def hopx_phase(site1, site2, p):\n",
    "        x1, y1, z1 = site1.pos\n",
    "        x2, y2, z2 = site2.pos\n",
    "        return hopx(site1, site2, p) * np.exp(-0.5j * p.Bz * (x1 - x2) * (y1 + y2))\n",
    "    \n",
    "    lat = kwant.lattice.general(np.identity(3))    \n",
    "    \n",
    "    if system_type == 'sys':\n",
    "        syst = kwant.Builder()\n",
    "        syst[lat.shape(shape_syst, (0,0,0))] = lambda site, p: onsite(site, p) - p.mu_scat * np.eye(4)\n",
    "    elif system_type == 'lead':\n",
    "        sym = kwant.TranslationalSymmetry((1, 0, 0))\n",
    "        syst = kwant.Builder(sym)\n",
    "        syst[lat.shape(shape_lead, (0,0,0))] = lambda site, p: onsite(site, p) - p.mu_lead * np.eye(4)\n",
    "    elif system_type == 'infinite':\n",
    "        syst = kwant.Builder(kwant.TranslationalSymmetry(*lat.prim_vecs)) \n",
    "        syst[lat.shape(lambda pos: True, (0, 0))] = lambda site, p: onsite(site, p) - p.mu_lead * np.eye(4)\n",
    "\n",
    "    syst[kwant.HoppingKind((1,0,0), lat)] = hopx_phase\n",
    "    syst[kwant.HoppingKind((0,1,0), lat)] = hopy\n",
    "    syst[kwant.HoppingKind((0,0,1), lat)] = hopz\n",
    "    return syst\n",
    "\n",
    "\n",
    "def bhz_scatter(L, W, H):\n",
    "    syst = bhz(L, W, H, 'sys')\n",
    "    lead = bhz(L, W, H, 'lead')\n",
    "    syst.attach_lead(lead)\n",
    "    syst.attach_lead(lead.reversed())\n",
    "    return syst\n",
    "\n",
    "\n",
    "def cond_mu(p, L, W, H):\n",
    "    p.mu_lead = 0.7\n",
    "    syst = bhz_scatter(L, W, H)\n",
    "    sys_leads_fixed = syst.finalized().precalculate(energy=0, args=[p])\n",
    "    mus = np.linspace(-0.4, 0.4, 40)\n",
    "    cond = [kwant.smatrix(sys_leads_fixed, energy=0, args=[p.update(mu_scat=mu)]).transmission(1, 0)\n",
    "            for mu in mus]\n",
    "    return np.array(cond), mus\n",
    "\n",
    "\n",
    "def plot_cond_mu(cond, mus):\n",
    "    kwargs = {'kdims': [r'$\\mu$', r'$G\\,[e^2/h]$']}\n",
    "    plot = holoviews.Path((mus, cond), **kwargs)(plot={'xticks': 3, 'yticks': [0, 2, 4, 6, 8]},\n",
    "                                                                style={'color': 'r'})\n",
    "    return plot[-0.4:0.4, 0:8].relabel('Conductance')\n",
    "\n",
    "\n",
    "def plot_bands(p, L, W, H):\n",
    "    lead = bhz(L, W, H, 'lead')\n",
    "    kwargs = {'k_x': np.linspace(-np.pi/3, np.pi/3, 101),\n",
    "              'ylims': [-1, 1],\n",
    "              'yticks': 5,\n",
    "              'xticks': [(-np.pi/3, r'$-\\pi/3$'), (0, r'$0$'), (np.pi/3, r'$\\pi/3$')]}\n",
    "    p.mu_lead = 0\n",
    "    return spectrum(lead, p, **kwargs)\n",
    "\n",
    "\n",
    "def plot_cond_spect(mu, cond_plot, bands_plot):\n",
    "    return (cond_plot*holoviews.VLine(mu)(style={'color': 'b'}) + \n",
    "            bands_plot.relabel('Spectrum')*holoviews.HLine(mu)(style={'color': 'b'}))\n",
    "\n",
    "\n",
    "def plot_warping(A=1.2, B=1.8, C=1.5, Kmax=1.0):\n",
    "    \n",
    "    def evaluate_on_grid(X, Y, func):\n",
    "        \"\"\" X, Y should be in np.meshgrid form. It's enough for func to work on floats. \"\"\"\n",
    "        data = []\n",
    "        for xx, yy in zip(X, Y):\n",
    "            data.append([func(i,j) for i, j in zip(xx, yy)])\n",
    "        data = np.array(data)\n",
    "        return data\n",
    "\n",
    "    def get_energy_function(A, B, C):\n",
    "        \"\"\" Used for plotting of hexagonal warping. \"\"\"\n",
    "        def func(kx, ky):\n",
    "            matrix = (A*(kx**2+ky**2)*pauli.s0 + B*(kx * pauli.sy - ky * pauli.sx) +\n",
    "                      C* 0.5 * ( (kx+1j*ky)**3 + (kx-1j*ky)**3 ) * pauli.sz)\n",
    "            return sla.eigh(matrix)[0]\n",
    "        return func\n",
    "    \n",
    "    zmin, zmax = -1.0, 3.5\n",
    "    xylims = (-1.2, 1.2)\n",
    "    zlims = (-1.0, 3.5)\n",
    "    kdims = [r'$k_x$', r'$k_y$']\n",
    "    vdims = [r'E']\n",
    "    # Generate a circular mesh\n",
    "    N = 100\n",
    "    r = np.linspace(0, Kmax, N)\n",
    "    p = np.linspace(0, 2*np.pi, N)\n",
    "    r, p = np.meshgrid(r, p)\n",
    "    x, y = r*np.cos(p), r*np.sin(p)\n",
    "    energies = evaluate_on_grid(x, y, func=get_energy_function(A, B, C))\n",
    "\n",
    "    xy_ticks = [-1.2, 0, 1.2]\n",
    "    zticks = [-1.0, 0.0, 1.0, 2.0, 3.0]\n",
    "    style = {'xticks': xy_ticks, 'yticks': xy_ticks, 'zticks': zticks}\n",
    "    kwargs = {'extents': (xylims[0], xylims[0], zlims[0], xylims[1], xylims[1], zlims[1]),\n",
    "              'kdims': kdims,\n",
    "              'vdims': vdims}\n",
    "    \n",
    "    # hex_cmap colormap is defined below.\n",
    "    %opts Trisurface (cmap=hex_cmap linewidth=0)\n",
    "    plot = holoviews.Overlay([holoviews.Trisurface((x.flat, y.flat, energies[:, :, i].flat), **kwargs)(plot=style)\n",
    "                              for i in range(energies.shape[-1])])\n",
    "    return plot(plot={'Overlay': {'fig_size': 350}})\n",
    "\n",
    "# Custom colormap for the hexagonal warping plot\n",
    "cmap_list = [((value + 1)/4.0, colour) for value, colour in \n",
    "             zip([-1.0, 0.0, 3.0], [\"Blue\", \"White\", \"Red\"])]\n",
    "hex_cmap = matplotlib.colors.LinearSegmentedColormap.from_list(\"custom\", cmap_list)"
   ]
  },
  {
   "cell_type": "markdown",
   "metadata": {},
   "source": [
    "### Plan\n",
    "\n",
    "* Spectroscopy of 3D TI\n",
    "* Landau levels\n",
    "* QPI\n",
    "* The issue of bulk conductivity\n",
    "* Hexagonal warping"
   ]
  },
  {
   "cell_type": "markdown",
   "metadata": {},
   "source": [
    "# Introduction: searching the periodic table for topological materials"
   ]
  },
  {
   "cell_type": "markdown",
   "metadata": {},
   "source": [
    "How do we find a topological insulator? In the first video of today, David Vanderbilt from Rutgers University will tell us more about the material science aspects of topological insulators research.\n",
    "\n",
    "This is an expertise that no one from the course team has, so pay close attention to it: this material stands apart from the rest."
   ]
  },
  {
   "cell_type": "code",
   "execution_count": null,
   "metadata": {
    "collapsed": false
   },
   "outputs": [],
   "source": [
    "MoocVideo(\"62ZObitJ4DM\",  src_location=\"6.2-intro\")"
   ]
  },
  {
   "cell_type": "markdown",
   "metadata": {},
   "source": [
    "In the rest of the lecture, we will instead discuss the experimental signatures of 3D topological insulators, similarly to what we did in the previous week for their 2D counterparts.\n",
    "\n",
    "All the figures showing the experimental data are copyright of the Zahid Hasan lab, Princeton, 2015. They are available under CC-BY-NC-SA 4.0 International license."
   ]
  },
  {
   "cell_type": "markdown",
   "metadata": {},
   "source": [
    "# Conductance of a 3D topological insulator"
   ]
  },
  {
   "cell_type": "markdown",
   "metadata": {},
   "source": [
    "Both the quantum Hall and quantum spin Hall states have striking conductance quantization properties, thanks to the presence of perfectly transmitting one-dimensional transport channels.\n",
    "\n",
    "The 3D topological insulators do not posses similar striking conductance properties. In a slab geometry, the surface states contribute with a finite density of propagating states. This density has a minimum at the Dirac point. The conductance increases roughly with a hyperbolic shape if the chemical potential is tuned away from the Dirac point as shown in the plot below:"
   ]
  },
  {
   "cell_type": "code",
   "execution_count": null,
   "metadata": {
    "collapsed": false
   },
   "outputs": [],
   "source": [
    "p = SimpleNamespace(A1=1, A2=1, B1=1, B2=1, C=0, D1=0, D2=0, M=-1, Bz=0, mu_scat=0)\n",
    "L, W, H = 10, 30, 6\n",
    "cond, mus = cond_mu(p, L, W, H)\n",
    "cond_plot = plot_cond_mu(cond, mus)\n",
    "bands_plot = plot_bands(p, L, W, H)\n",
    "mus = np.linspace(-0.4, 0.4, 11)\n",
    "holoviews.HoloMap({mu: plot_cond_spect(mu, cond_plot, bands_plot)\n",
    "                   for mu in mus}, kdims = [r'$\\mu$']).collate()"
   ]
  },
  {
   "cell_type": "markdown",
   "metadata": {},
   "source": [
    "It is also the behavior that is observed experimentally. In the figure below, you see that the resistance of a 3D TI slab reaches a maximum and then decreases as the chemical potential difference between its top and bottom surfaces is varied."
   ]
  },
  {
   "cell_type": "markdown",
   "metadata": {},
   "source": [
    "![](figures/zero_field_Rxx.png)\n",
    "\n",
    "(copyright Hasan lab, Princeton, see license in the beginning of the chapter)"
   ]
  },
  {
   "cell_type": "markdown",
   "metadata": {},
   "source": [
    "Note that in such a measurement, you cannot separate contributions of states coming from the different surfaces, or potentially also from the sides or the sample, or even from the bulk - we'll discuss this issue soon in more detail. \n",
    "\n",
    "Nevertheless, the observed maximum in resistance corresponds to the minimum in conductance computed just above, and it demonstrates the presence of a Dirac point between the conduction and valence bands.\n",
    "\n",
    "This behavior discussed above is not very striking. For instance, the same behavior is observed in graphene. The conductance is not sensitive to degeneracies in the electron spectrum in a qualitative way, so just from it, we cannot demonstrate that the surface of a 3D TI has a single Dirac cone, unlike graphene which has four. Hence, while the measurement above is a signature of a surface state, it is not a particularly striking one. \n",
    "\n",
    "Perhaps we will be more lucky with topological signatures of 3D topological insulators, if we look at the Hall conductance?"
   ]
  },
  {
   "cell_type": "markdown",
   "metadata": {},
   "source": [
    "# Landau levels"
   ]
  },
  {
   "cell_type": "markdown",
   "metadata": {},
   "source": [
    "In last chapter, we saw that one single surface of a 3D topological insulator is characterized by a Hall conductance of $ (n+1/2)\\, e^2/h$. We also pointed out that there are always two surfaces, say the top and bottom one of a slab, which gives a total Hall conductance of $(2n+1)\\,e^2/h$ and makes it hard to observe the half-integer Hall conductance.\n",
    "\n",
    "You may say - OK, we can live with this and be happy with our $(2n+1)$ sequence. After all, it looks almost as unique as the $(n+1/2)$ sequence. Sure, it does not allow us to see directly the half-integer value, but it gives a step between plateaus which is twice the usual one, and no plateau with $n=0$. After all, measuring *twice* that sequence was a good enough probe for graphene.\n",
    "\n",
    "So let's look at a Hall conductance measurements performed on a slab of a 3D TI, focusing for instance on the blue trace. "
   ]
  },
  {
   "cell_type": "markdown",
   "metadata": {},
   "source": [
    "![](figures/LL_spectroscopy.png)\n",
    "\n",
    "(copyright Hasan lab, Princeton, see license in the beginning of the chapter)"
   ]
  },
  {
   "cell_type": "markdown",
   "metadata": {},
   "source": [
    "You see a sequence of plateaus with integer steps of a normal height $e^2/h$. Nothing special. Why did our prediction of a $(2n+1)$ sequence fail? \n",
    "\n",
    "The reason is that there is no symmetry at all between top and bottom surfaces, they are really independent. For instance, they might have different doping, and hence be characterized by different values $n_\\textrm{top}$ and $n_\\textrm{bottom}$ of the Chern integer.\n",
    "\n",
    "Therefore, rather than observing a sequence $e^2/h\\,(2n+1)$, we observe a more conventional sequence given by $e^2/h\\,(n_\\textrm{top}+n_\\textrm{bottom}+1)$, with the usual $e^2/h$ steps between different plateaus."
   ]
  },
  {
   "cell_type": "markdown",
   "metadata": {},
   "source": [
    "So, even by studying the Landau levels experimentally, we do not get a topological signature. But do not despair, luckily there is a much better thing that we can do rather than just measuring conductance: looking at the energy spectrum of the surface states directly."
   ]
  },
  {
   "cell_type": "code",
   "execution_count": null,
   "metadata": {
    "collapsed": false
   },
   "outputs": [],
   "source": [
    "question = (\"Which control parameter can remove the 0th plateau in the QHE measurement? \")\n",
    "\n",
    "answers = [\"Increasing the magnetic field.\",\n",
    "           \"Gate voltage difference (which controls difference in electron density) between the surfaces.\",\n",
    "           \"Increasing topological mass.\",\n",
    "           \"Adding an in-plane magnetic field.\"]\n",
    "\n",
    "explanation = (\"Gate voltage difference changes the filling of the individual states without shifting the total density of electrons. \"\n",
    "            \"This can therefore shift the plateaus of each surface. Magnetic field and topological mass are part of generating the \"\n",
    "               \" $0^{th}$ plateau to begin with so cannot eliminate it. \")\n",
    "\n",
    "MoocMultipleChoiceAssessment(question=question, answers=answers, correct_answer=1, explanation=explanation)"
   ]
  },
  {
   "cell_type": "markdown",
   "metadata": {},
   "source": [
    "# Spectroscopy of the surface of a 3D topological insulator"
   ]
  },
  {
   "cell_type": "markdown",
   "metadata": {},
   "source": [
    "Amazingly, the surface states of a 3D topological insulator can be directly imaged experimentally using the technique of Angle Resolved Photo Emission Spectroscopy - or, in short, [ARPES](http://en.wikipedia.org/wiki/Angle-resolved_photoemission_spectroscopy).\n",
    "\n",
    "In ARPES, X-ray photons are shot vertically into a metal surface in order to eject electrons out of it. Due to energy and momentum conservation, the emitted electrons have the same momentum (parallel to the surface) that they had in the crystal, and an energy which is related to their band energy in the crystal. Hence, ARPES is the ideal tool to measure the energy dispersion of the surface states of a solid, i.e. $E(k_x, k_y)$ as a function of momenta $\\hbar k_x$ and $\\hbar k_y$.\n",
    "\n",
    "Below, we see an example of ARPES spectra for the surface states of a strong topological insulator Bi$_2$ Se$_3$:\n",
    "\n",
    "![](figures/arpes_fig1.png)\n",
    "\n",
    "(copyright Hasan lab, Princeton, see license in the beginning of the chapter)\n",
    "\n",
    "ARPES can only eject electrons - so only occupied states below the Fermi level are visible in the experiment, but of course one can still map out the Fermi surface at different energies by changing the chemical potential in the crystal. In the ARPES results above we see the results for different dopings of the crystal.\n",
    "\n",
    "In the top panel of the figure above, we see that by changing the chemical potential, the Fermi surface shrinks from a circle to a point, exactly what you would expect for electrons with a Dirac-like dispersion.\n",
    "\n",
    "While the top panels shows where the occupied states lie in the $(k_x, k_y)$ plane, in the second and third rows we see a cross-section of the energy as a function of momentum, where the Dirac cone is clearly visible, emerging from a bulk valence band filled with electrons."
   ]
  },
  {
   "cell_type": "code",
   "execution_count": null,
   "metadata": {
    "collapsed": false
   },
   "outputs": [],
   "source": [
    "question = (\"Why do you think ARPES observes surface states even if there is conductance through the bulk?\")\n",
    "\n",
    "answers = [\"ARPES can only observe occupied states and therefore bulk conductance is not an issue. \",\n",
    "           \"Since ARPES measures the spectrum in a momentum resolved way, it can separate out surface and bulk states.\",\n",
    "           \"ARPES does not measure conductance and therefore bulk electronic states are not an issue.\",\n",
    "        \"Since ARPES measures the spectrum in an energy resolved way, it can selectively choose the surface states in the bulk gap.\"]\n",
    "\n",
    "explanation = (\"The surface states live within the energy gap of the bulk. Since ARPES directly measure $E(k)$, it separates out \"\n",
    "            \"surface states from bulk states, which are in different energy ranges. \")\n",
    "\n",
    "MoocMultipleChoiceAssessment(question=question, answers=answers, correct_answer=3, explanation=explanation)"
   ]
  },
  {
   "cell_type": "markdown",
   "metadata": {},
   "source": [
    "# Quasiparticle interference (QPI)"
   ]
  },
  {
   "cell_type": "markdown",
   "metadata": {},
   "source": [
    "Scanning tunneling microscopy (STM) is another tool to image surface states in a topological insulator. In the process of STM we tunnel electrons into the surface from a metallic tip. In contrast to ARPES, the electrons are not going into free space, so we don't have momentum resolution. On the other hand, we do trade momentum resolution for nearly atomic spatial resolution. We know where exactly on the surface the electron came from.\n",
    "\n",
    "Tunneling into a uniform surface can tell us a little bit about which orbital on an atom, the electrons at a certain energy come from. Otherwise, we'd see a uniform surface, which wouldn't have much information.  We can make things more interesting and, strangely enough, get more information by sprinkling some impurities on the surface. The impurities scatter the surface electrons and produce a standing wave pattern on the surface, which depends on the Fermi surface momenta of the electrons at the particular tunneling energy (Note: in this unit we refer to the equal energy surface in momentum space at the tunneling energy as Fermi surface for convenience). The resulting pattern is referred to QPI. Specifically, Fourier transforming the QPI pattern directly maps out the momentum transfer across the Fermi-surface of the surface state. \n",
    "\n",
    "Clearly, we can expect to map out some properties of the momentum space scattering on the surface of the topological insulator. \n",
    "\n",
    "In the simulation below. we see that the Fourier transform shows an interesting pattern: "
   ]
  },
  {
   "cell_type": "markdown",
   "metadata": {},
   "source": [
    "![](figures/QPI_pic_adapted.png)\n",
    "(adapted, copyright Hasan lab, Princeton, see license in the beginning of the chapter)  "
   ]
  },
  {
   "cell_type": "markdown",
   "metadata": {},
   "source": [
    "By comparing the QPI patterns showing spin-dependent and spin-independent scattering (respectively on the left and right column on the right side of the arrow), we see that the intensity at momenta connecting opposite points on the Fermi surface is suppressed in the case of spin-independent scattering.\n",
    "\n",
    "In fact, by comparing the fourier transform of the QPI on the right with the Fermi surface on the left, we begin to see that the absence of back-scattering, which is one of the key properties of the topological insulator surface state plays a key role. As you might remember from the quantum spin hall systems - elastic backscattering of electrons is forbidden between states at $\\bf k$ and $-\\bf k$ because of Kramers' theorem. Looking at the QPI pattern from spin-independent impurities and comparing it with the Fermi surface confirms this. "
   ]
  },
  {
   "cell_type": "markdown",
   "metadata": {},
   "source": [
    "# The issue of bulk conductivity"
   ]
  },
  {
   "cell_type": "markdown",
   "metadata": {},
   "source": [
    "One of the central issues that has plagued the experimental progress with topological insulators is the presence of bulk doping or conductance in most naturally grown crystals. You can see this simply by looking at the ARPES plots below:\n",
    "\n",
    "![](figures/bulk_conductance_TI.png)\n",
    "(copyright Hasan lab, Princeton, see license in the beginning of the chapter)\n",
    "\n",
    "What you see is that the Fermi-energy, which is the highest energy till which you can eject electrons in ARPES intersects the conduction band. This means that in the native state the conduction band of the electrons is occupied and the fermi level is not in the gap. In the figure above, the situation is worst for pure Antimony in the extreme left panel, which is really a semimetal with overlapping electron and hole bands. In this case, independent of fermi level position, the system would remain metallic. Moving from pure Sb to $Bi_2 Se_3$ improves this somewhat, but still does not make this an insulator. Theoretically, we do expect pure $Bi_2 Se_3$ to be an insulator - but in reality, the system typically have Se vacancies, which make it metallic.\n",
    "\n",
    "Being metallic really ruins a lot of interesting properties of the topological insulators. So a lot of effort is going in to fixing it up. Below, we see some of the results from these attempts:\n",
    "\n",
    "![](figures/insulating_TI.png)\n",
    "(copyright Hasan lab, Princeton, see license in the beginning of the chapter)\n",
    "\n",
    "where various combinations of $Bi$, $Se$ and $Te$ have been combined to drive the system insulating. By looking at the ARPES spectra, it should look convincing that by varying different conditions, the fermi level is indeed shifting in to the interior of the gap. The experimental tricks used to get this working range between changing the pressure of various elements in the growth condition to counter doping the surface etc.  But the resistance results seem to be improving quite a bit."
   ]
  },
  {
   "cell_type": "markdown",
   "metadata": {},
   "source": [
    "# Hexagonal warping"
   ]
  },
  {
   "cell_type": "markdown",
   "metadata": {},
   "source": [
    "ARPES measurements on the surface of topological materials in the bismuth family also demonstrated an interesting (even though non-topological) feature of the surface states.\n",
    "\n",
    "The effective Dirac Hamiltonian is linear in momentum and has a full rotational symmetry in the $(x,y)$ plane of the surface, making the Fermi surface circular. However, moving away in energy from the Dirac point, experimentalists observed a different shape of the Fermi surface, similar to a snowflake:"
   ]
  },
  {
   "cell_type": "markdown",
   "metadata": {},
   "source": [
    "![](figures/warping.png)\n",
    "(copyright Hasan lab, Princeton, see license in the beginning of the chapter)"
   ]
  },
  {
   "cell_type": "markdown",
   "metadata": {},
   "source": [
    "It's clear that this shape cannot be explained by the Dirac Hamiltonian with its rotational invariance. In order to take into account this deformation of the Fermi surface, we have to think about the crystal symmetries of the surface. In BiSe and BiTe compounds, there is no full rotational symmetry, but only a lower three-fold rotation symmetry. We can take into account this effect by adding a correction to the effective Dirac Hamiltonian.\n",
    "\n",
    "This is exactly what was done in this article:"
   ]
  },
  {
   "cell_type": "code",
   "execution_count": null,
   "metadata": {
    "collapsed": false
   },
   "outputs": [],
   "source": [
    "PreprintReference(\"0908.1418\", show_abstract=False)"
   ]
  },
  {
   "cell_type": "markdown",
   "metadata": {},
   "source": [
    "There Liang Fu made a relatively simple theoretical exercise. He listed all the terms in the Hamiltonian allowed by time-reversal and crystalline symmetries, that are proportional to $k^3.$ This is the result:\n",
    "\n",
    "$$\n",
    "H(\\mathbf{k}) = E_0(k) + v\\, (1+\\alpha \\mathbf{k}^2)\\,(k_x\\sigma_y - k_y\\sigma_x) + \\frac{\\lambda}{2}\\,(k^3_++k^3_-)\\,\\sigma_z.\n",
    "$$\n",
    "\n",
    "You see a correction to the Dirac velocity proportional to $\\alpha \\mathbf{k}^2$, which doesn't break the rotational symmetry, as well as the term with $\\lambda$, which is responsible for the warping.\n",
    "\n",
    "Let's plot the spectrum of this extended effective Hamiltonian:"
   ]
  },
  {
   "cell_type": "code",
   "execution_count": null,
   "metadata": {
    "collapsed": false
   },
   "outputs": [],
   "source": [
    "%%output fig='png'\n",
    "\n",
    "plot_warping()"
   ]
  },
  {
   "cell_type": "markdown",
   "metadata": {},
   "source": [
    "This Hamiltonian reproduces correctly the *hexagonal warping* of the Fermi surface. In particular, independently of the parameters $\\lambda$ and $\\alpha$, the vertices of the hexagon are always aligned with the $x$ crystal axis, as is observed experimentally.\n",
    "\n",
    "In addition to modifying the shape of the Fermi surface, we see that the extra term is proportional to $\\sigma_z$, and rotates the spin of the surface state out of plane. This strongly affects the scattering properties of the surface state."
   ]
  },
  {
   "cell_type": "markdown",
   "metadata": {},
   "source": [
    "# Outlook: from basic science to potential applications"
   ]
  },
  {
   "cell_type": "markdown",
   "metadata": {},
   "source": [
    "David Vanderbilt will conclude this week's lectures by offering a perspective on the future of the field."
   ]
  },
  {
   "cell_type": "code",
   "execution_count": null,
   "metadata": {
    "collapsed": false
   },
   "outputs": [],
   "source": [
    "MoocVideo(\"WZmNeEwM1N4\",  src_location=\"6.2-summary\")"
   ]
  },
  {
   "cell_type": "code",
   "execution_count": null,
   "metadata": {
    "collapsed": false
   },
   "outputs": [],
   "source": [
    "MoocDiscussion(\"Questions\", \"3DTI materials and signatures\")"
   ]
  }
 ],
 "metadata": {
  "kernelspec": {
   "display_name": "Python 3",
   "language": "python",
   "name": "python3"
  },
  "language_info": {
   "codemirror_mode": {
    "name": "ipython",
    "version": 3
   },
   "file_extension": ".py",
   "mimetype": "text/x-python",
   "name": "python",
   "nbconvert_exporter": "python",
   "pygments_lexer": "ipython3"
  }
 },
 "nbformat": 4,
 "nbformat_minor": 0
}
