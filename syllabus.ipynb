{
 "cells": [
  {
   "cell_type": "markdown",
   "metadata": {},
   "source": [
    "**This is general information about the EdX course on [topology in condensed matter](http://tiny.cc/topocm)**\n",
    "\n",
    "The IPython notebooks contains some auxiliary information, like code, that is hidden on EdX."
   ]
  },
  {
   "cell_type": "markdown",
   "metadata": {},
   "source": [
    "# Syllabus"
   ]
  },
  {
   "cell_type": "markdown",
   "metadata": {},
   "source": [
    "* **Before you begin**\n",
    "    \n",
    "    * [About this course](w0_background/intro.ipynb)\n",
    "    * Starting survey\n",
    "\n",
    "* **Topology in toy models**\n",
    "\n",
    "    * [Hamiltonians, topology, and symmetry](w1_topointro/0d.ipynb)  \n",
    "    * [Bulk-edge correspondence in the Kitaev chain](w1_topointro/1D.ipynb)  \n",
    "    * [Assignments](w1_topointro/w1_assignments.ipynb)\n",
    "\n",
    "* **Majoranas I**\n",
    "\n",
    "    * [From Kitaev chain to a nanowire](w2_majorana/nanowire.ipynb)  \n",
    "    * [Majorana signatures: 4π-periodic Josephson effect, Andreev conductance quantization](w2_majorana/signatures.ipynb)  \n",
    "    * [Why Majoranas are cool: braiding and quantum computation](w2_majorana/braiding.ipynb)  \n",
    "    * [Assignments](w2_majorana/w2_assignments.ipynb)\n",
    "\n",
    "* **More parameters: charge pumping**\n",
    "\n",
    "    * [Thouless pumps and winding invariant](w3_pump_QHE/pumps.ipynb)  \n",
    "    * [Quantum Hall effect: pumping electrons in Landau levels](w3_pump_QHE/Laughlinargument.ipynb)  \n",
    "    * [Quantum Hall effect: edge states](w3_pump_QHE/QHEedgestates.ipynb)  \n",
    "    * [Assignments](w3_pump_QHE/w3_assignments.ipynb)\n",
    "\n",
    "* **Chern insulators**\n",
    "\n",
    "    * [Quantum Hall Effect on the lattice and Dirac Hamiltonian](w4_haldane/QHE_lattice.ipynb)  \n",
    "    * [Haldane model, Berry curvature, and Chern number](w4_haldane/haldane_model.ipynb)  \n",
    "    * [Assignments](w4_haldane/w4_assignments.ipynb)\n",
    "\n",
    "* **Quantum spin Hall effect**\n",
    "\n",
    "    * [Time-reversal symmetry and fermion parity pumps](w5_qshe/fermion_parity_pump.ipynb)  \n",
    "    * [Experimental progress and candidate materials](w5_qshe/qshe_experiments.ipynb)  \n",
    "    * [Assignments](w5_qshe/w5_assignments.ipynb)\n",
    "\n",
    "* **Three-dimensional topological insulators**\n",
    "\n",
    "    * [Dirac equation of the surface states, 3D Bernevig-Hughes-Zhang model](w6_3dti/bhz.ipynb)  \n",
    "    * [Experimental progress and candidate materials](w6_3dti/3dti_signatures.ipynb)  \n",
    "    * [Assignments](w6_3dti/w6_assignments.ipynb)\n",
    "\n",
    "* **Topological defects**\n",
    "\n",
    "    * [Majoranas in topological insulators and superconductors](w7_defects/ti_majoranas.ipynb)  \n",
    "    * [Crystalline defects in weak topological insulators](w7_defects/crystalline_defects.ipynb)  \n",
    "    * [Assignments](w7_defects/w7_assignments.ipynb)\n",
    "\n",
    "* **General approach to topological classification**\n",
    "\n",
    "    * [10 symmetry classes and the periodic table of topological insulators](w8_general/classification.ipynb)  \n",
    "    * [Different approaches to topological invariants](w8_general/invariants.ipynb)  \n",
    "    * [Assignments](w8_general/w8_assignments.ipynb)\n",
    "\n",
    "* **Anderson localization and topology**\n",
    "\n",
    "    * [Disorder and the scaling theory of localization](w9_disorder/scaling.ipynb)  \n",
    "    * [Flow diagram of topological insulators](w9_disorder/topoflow.ipynb)  \n",
    "    * [Assignments](w9_disorder/w9_assignments.ipynb)\n",
    "\n",
    "* **Extensions of classification I**\n",
    "\n",
    "    * [Topology in gapless systems](w10_extensions/gapless.ipynb)  \n",
    "    * [Topological mechanics](w10_extensions/mechanics.ipynb)  \n",
    "    * [Assignments](w10_extensions/w10_assignments.ipynb)\n",
    "\n",
    "* **Extensions of classification II**\n",
    "    * [Floquet topological insulators](w11_extensions2/floquet.ipynb)  \n",
    "    * [Crystalline topological insulators](w11_extensions2/cti.ipynb)  \n",
    "    * [Assignments](w11_extensions2/w11_assignments.ipynb)\n",
    "    \n",
    "* **Beyond single-particle physics**\n",
    "\n",
    "    * [Fractional quantum Hall effect and topological particles](w12_manybody/fqhe.ipynb)  \n",
    "    * [Topological order and the toric code](w12_manybody/topoorder.ipynb)  \n",
    "    * [Assignments](w12_manybody/w12_assignments.ipynb)"
   ]
  },
  {
   "cell_type": "markdown",
   "metadata": {},
   "source": [
    "## Course structure\n",
    "\n",
    "* Each section consists of several relatively self-contained topics, each introduced and summarized by an expert.\n",
    "* If you have questions about the material, ask them using the discussion right after the final video of each topic.\n",
    "* The assignments are a combination of numerical simulations, where you evaluate your success on your own (but do share your results), and a review of a paper out of a selection of papers. The reviews are then cross-evaluated by other participants.\n",
    "* In order to keep everyone on the same page, we set a one week deadline for the assignments (plus an extra week for cross-evaluation of the paper reviews). The questions in the course materials have no deadline."
   ]
  },
  {
   "cell_type": "markdown",
   "metadata": {},
   "source": [
    "## Current course team\n",
    "\n",
    "**Anton Akhmerov** is an assistant professor in Kavli Institute of Nanoscience of Delft University of Technology and QuTech.\n",
    "\n",
    "**Jay Sau** is an assistant professor in the area of theoretical Condensed matter physics at the University of Maryland, College Park, USA.\n",
    "\n",
    "**Bernard van Heck** is a postdoc at Yale University.\n",
    "\n",
    "**Bas Nijholt, Irfan Muhammad, Tómas Örn Rosdahl** are PhD students working in Kavli Institute for Nanoscience at TU Delft supervised by Anton Akhmerov.\n",
    "\n",
    "## Other course developers\n",
    "\n",
    "The initial verison of the course was created by:  \n",
    "Anton Akhmerov  \n",
    "Jay Sau  \n",
    "Bernard van Heck  \n",
    "Sebastian Rubbert  \n",
    "Rafał Skolasiński."
   ]
  },
  {
   "cell_type": "markdown",
   "metadata": {},
   "source": [
    "## Acknowledgements\n",
    "\n",
    "When working on the course, we greatly benefitted from support of\n",
    "\n",
    "* [Delft University of Technology](http://tudelft.nl) and its Extension School\n",
    "* [QuTech](http://qutech.nl)\n",
    "* [Casimir Research School](http://casimir.researchschool.nl) and the [NanoFront](http://casimir.researchschool.nl/nanofront) program\n",
    "* [University of Maryland](http://umd.edu) and its Physics Department\n",
    "* [Joint Quantum Institute](http://jqi.umd.edu)\n",
    "\n",
    "We thank [M. Wimmer](http://michaelwimmer.org/) and [C. Groth](http://inac.cea.fr/Pisp/christoph.groth/) for letting us use their code in some of the course materials.\n",
    "\n",
    "For the support with implementing the technical aspects of the course we thank\n",
    "\n",
    "* The [Jupyter project](https://jupyter.org) and its developer team, especially Min Ragan-Kelley.\n",
    "* [SageMathCloud](https://cloud.sagemath.org) and its creator W. Stein.\n",
    "* The [Holoviews](https://holoviews.org) team: Jean-Luc Stevens and Philipp Rudiger.\n",
    "\n",
    "Finally, we thank all the external speakers for contributing the videos for the course."
   ]
  },
  {
   "cell_type": "markdown",
   "metadata": {},
   "source": [
    "## License\n",
    "\n",
    "Unless otherwise specified the **Course Materials** of TU\n",
    "Delft TOPOCMx are Copyright [Delft University of Technology](http://www.tudelft.nl/en/) and are licensed under\n",
    "a [Creative Commons Attribution-ShareAlike 4.0\n",
    "International License](http://creativecommons.org/licenses/by-sa/4.0/)\n",
    "[![](https://i.creativecommons.org/l/by-sa/4.0/88x31.png)](http://creativecommons.org/licenses/by-sa/4.0/)"
   ]
  },
  {
   "cell_type": "markdown",
   "metadata": {},
   "source": [
    "The **source code** can also be used under conditions of the 3-clause BSD licence: \n",
    "\n",
    " Redistribution and use in source and binary forms, with or without modification, are permitted provided that the following conditions are met:\n",
    "\n",
    "1. Redistributions of source code must retain the above copyright notice, this list of conditions and the following disclaimer.\n",
    "\n",
    "2. Redistributions in binary form must reproduce the above copyright notice, this list of conditions and the following disclaimer in the documentation and/or other materials provided with the distribution.\n",
    "\n",
    "3. Neither the name of the copyright holder nor the names of its contributors may be used to endorse or promote products derived from this software without specific prior written permission.\n",
    "\n",
    "THIS SOFTWARE IS PROVIDED BY THE COPYRIGHT HOLDERS AND CONTRIBUTORS \"AS IS\" AND ANY EXPRESS OR IMPLIED WARRANTIES, INCLUDING, BUT NOT LIMITED TO, THE IMPLIED WARRANTIES OF MERCHANTABILITY AND FITNESS FOR A PARTICULAR PURPOSE ARE DISCLAIMED. IN NO EVENT SHALL THE COPYRIGHT HOLDER OR CONTRIBUTORS BE LIABLE FOR ANY DIRECT, INDIRECT, INCIDENTAL, SPECIAL, EXEMPLARY, OR CONSEQUENTIAL DAMAGES (INCLUDING, BUT NOT LIMITED TO, PROCUREMENT OF SUBSTITUTE GOODS OR SERVICES; LOSS OF USE, DATA, OR PROFITS; OR BUSINESS INTERRUPTION) HOWEVER CAUSED AND ON ANY THEORY OF LIABILITY, WHETHER IN CONTRACT, STRICT LIABILITY, OR TORT (INCLUDING NEGLIGENCE OR OTHERWISE) ARISING IN ANY WAY OUT OF THE USE OF THIS SOFTWARE, EVEN IF ADVISED OF THE POSSIBILITY OF SUCH DAMAGE."
   ]
  },
  {
   "cell_type": "markdown",
   "metadata": {},
   "source": [
    "**Videos contributed by external experts** are copyright of their creators, and are also available under Creative Commons Attribution 3.0 Unported License."
   ]
  }
 ],
 "metadata": {
  "kernelspec": {
   "display_name": "Python 3",
   "language": "python",
   "name": "python3"
  },
  "language_info": {
   "codemirror_mode": {
    "name": "ipython",
    "version": 3
   },
   "file_extension": ".py",
   "mimetype": "text/x-python",
   "name": "python",
   "nbconvert_exporter": "python",
   "pygments_lexer": "ipython3"
  }
 },
 "nbformat": 4,
 "nbformat_minor": 0
}
