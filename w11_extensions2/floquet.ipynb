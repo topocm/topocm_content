{
 "cells": [
  {
   "cell_type": "code",
   "execution_count": null,
   "metadata": {
    "collapsed": false
   },
   "outputs": [],
   "source": [
    "import sys\n",
    "sys.path.append('../code')\n",
    "from init_mooc_nb import *\n",
    "init_notebook()\n",
    "\n",
    "from wraparound import wraparound\n",
    "from scipy import linalg as la\n",
    "from functools import reduce\n",
    "\n",
    "pi_ticks = [(-np.pi, r\"$-\\pi$\"),\n",
    "            (-np.pi / 2, r\"$-\\pi/2$\"),\n",
    "            (0, r\"$0$\"),\n",
    "            (np.pi / 2, r\"$\\pi/2$\"),\n",
    "            (np.pi, r\"$\\pi$\")]\n",
    "\n",
    "\n",
    "def checkerboard(W=None):\n",
    "    lat = kwant.lattice.general([[2, 0], [1, 1]], [(0, 0), (1, 0)])\n",
    "    a, b = lat.sublattices\n",
    "    if W:\n",
    "        def lead_shape(pos):\n",
    "            (x, y) = pos\n",
    "            return (0 <= y < W and 0 <= x < W)\n",
    "        syst = kwant.Builder(kwant.TranslationalSymmetry((1, 1)))\n",
    "        syst[a.shape(lead_shape, (0, 0))] = 0\n",
    "        syst[b.shape(lead_shape, (1, 0))] = 0\n",
    "    else:\n",
    "        syst = kwant.Builder(kwant.TranslationalSymmetry(*lat.prim_vecs))    \n",
    "        syst[lat.shape(lambda pos: True, (0, 0))] = 0\n",
    "    syst[kwant.HoppingKind((0, 0), b, a)] = lambda s1, s2, p: -p.t1\n",
    "    syst[kwant.HoppingKind((-1, 1), b, a)] = lambda s1, s2, p: -p.t2\n",
    "    syst[kwant.HoppingKind((1, 0), a, b)] = lambda s1, s2, p: -p.t3\n",
    "    syst[kwant.HoppingKind((0, 1), a, b)] = lambda s1, s2, p: -p.t4\n",
    "    return syst\n",
    "\n",
    "\n",
    "def evolution_operator(hamiltonians, T):\n",
    "    n = len(hamiltonians)\n",
    "    exps = [la.expm(-1j * h * T / n) for h in hamiltonians]\n",
    "    return reduce(np.dot, exps)\n",
    "\n",
    "\n",
    "def get_h_k(lead, p):\n",
    "    bands = kwant.physics.Bands(lead, args=[p])\n",
    "    h, t = bands.ham, bands.hop\n",
    "    return lambda k: h + t * np.exp(-1j * k) + t.T.conj() * np.exp(1j * k)"
   ]
  },
  {
   "cell_type": "markdown",
   "metadata": {},
   "source": [
    "**No content above this line is visible in edX**"
   ]
  },
  {
   "cell_type": "markdown",
   "metadata": {},
   "source": [
    "# Introduction"
   ]
  },
  {
   "cell_type": "markdown",
   "metadata": {},
   "source": [
    "Today's topic, Floquet topological insulators, is introduced by Mark Rudner from the Niels Bohr Institute at Copenhagen."
   ]
  },
  {
   "cell_type": "code",
   "execution_count": null,
   "metadata": {
    "collapsed": false
   },
   "outputs": [],
   "source": [
    "MoocVideo(\"1peVp_IZ7Ts\", src_location=\"11.1-intro\")"
   ]
  },
  {
   "cell_type": "markdown",
   "metadata": {},
   "source": [
    "# Periodically driven systems"
   ]
  },
  {
   "cell_type": "markdown",
   "metadata": {},
   "source": [
    "We will now learn about a new generalization of topology, namely how it applies to the quantum evolution of systems with a time-dependent Hamiltonian. As you may recall, we've already encountered time dependence, back when we considered quantum pumps. However, back then we assumed that the time evolution was very slow, such that the system stayed in the ground state at all times, i.e. it was adiabatic. Can we relax the adiabaticity constraint? Can we find an analog of topology in systems that are driven so fast that energy isn't conserved?\n",
    "\n",
    "For the same reasons as before, we'll consider periodic driving\n",
    "\n",
    "$$\n",
    "H(t + T) = H(t).\n",
    "$$\n",
    "\n",
    "Once again, this is necessary because otherwise, any system can be continuously deformed into any other, and there is no way to define a gap."
   ]
  },
  {
   "cell_type": "markdown",
   "metadata": {},
   "source": [
    "Before we get to topology, let's refresh our knowledge of time-dependent systems.\n",
    "\n",
    "The Schrödinger equation is:\n",
    "\n",
    "$$\n",
    "i\\frac{d \\psi}{dt} = H(t) \\psi.\n",
    "$$\n",
    "\n",
    "It is a linear equation, so we can write its solution as\n",
    "\n",
    "$$\n",
    "\\psi(t_2) = U(t_2, t_1) \\psi(t_1),\n",
    "$$\n",
    "\n",
    "where $U$ is a unitary *time evolution operator*. It solves the same Schrödinger equation as the wave function, and is equal to the identity matrix at the initial time. It is commonly written as\n",
    "\n",
    "$$\n",
    "U(t_2, t_1) = \\mathcal{T} \\exp\\,\\left[-i\\int_{t_1}^{t_2} H(t) dt\\right],\n",
    "$$\n",
    "\n",
    "where $\\mathcal{T}$ represents time-ordering (not time-reversal symmetry). The time-ordering is just a short-hand notation for the need to solve the full differential equation, and it is necessary if the Hamiltonians evaluated at different times in the integral do not commute.\n",
    "\n",
    "The time evolution operator satisfies a very simple multiplication rule:\n",
    "\n",
    "$$\n",
    "U(t_3, t_1) = U(t_3, t_2) U(t_2, t_1),\n",
    "$$\n",
    "\n",
    "which just says that time evolution from $t_1$ to $t_3$ is a product of time evolutions from $t_1$ to $t_2$ and then from $t_2$ to $t_3$. Of course an immediate consequence of this is the equality $U(t_2, t_1)^\\dagger = U(t_2, t_1)^{-1} = U(t_1, t_2)$."
   ]
  },
  {
   "cell_type": "markdown",
   "metadata": {},
   "source": [
    "## Floquet theory"
   ]
  },
  {
   "cell_type": "markdown",
   "metadata": {},
   "source": [
    "The central object for the study of driven systems is the evolution operator over one period of the driving,\n",
    "\n",
    "$$\n",
    "U(t + T, t) \\equiv U,\n",
    "$$\n",
    "\n",
    "which is called the Floquet time evolution operator. It is important because it allows us to identify the wave functions that are the same if an integer number of drive periods passes. These are the stationary states of a driven system, and they are given by the eigenvalues of the Floquet operator:\n",
    "\n",
    "$$\n",
    "U \\psi = e^{i \\alpha} \\psi.\n",
    "$$\n",
    "\n",
    "The stationary states are very similar to the eigenstates of a stationary Hamiltonian, except that they are only stationary if we look at fixed times $t + nT$. That's why the Floquet time evolution operator is also called a stroboscopic time evolution operator.\n",
    "\n",
    "We can very easily construct a Hermitian matrix from $U$, the **Floquet Hamiltonian**:\n",
    "\n",
    "$$\n",
    "H_\\textrm{eff} = i T^{-1} \\,\\ln U.\n",
    "$$\n",
    "\n",
    "Its eigenvalues $\\varepsilon = \\alpha / T$ are called quasi-energies, and they always belong to the interval $-\\pi < \\alpha \\leq \\pi$.\n",
    "\n",
    "If the system is translationally invariant, we can study the effective band structure of $H_\\textrm{eff}(\\mathbf{k})$, find an energy in which the bulk Hamiltonian has no states, and study the topological properties of such a Hamiltonian: most of the things we already know still apply.\n",
    "\n",
    "Of course, selecting a single quasi-energy as the Fermi level is arbitrary, since the equilibrium state of driven systems doesn't correspond to a Fermi distribution of filling factors, but at least it seems close enough for us to try to apply topological ideas."
   ]
  },
  {
   "cell_type": "code",
   "execution_count": null,
   "metadata": {
    "collapsed": false
   },
   "outputs": [],
   "source": [
    "question = (\"But wait, we arbitrarily chose the starting point $t$ in time for calculating the \"\n",
    "            \"Floquet operator. What if we chose a different one?\")\n",
    "\n",
    "answers = [\"The starting time is just an extra parameter of our system, and topology depends on it.\",\n",
    "           \"It doesn't matter, the wave function evolution within one period \"\n",
    "           \"can be neglected, since we are interested in many periods.\",\n",
    "           \"There's only one correct starting point in time.\",\n",
    "           \"It doesn't matter since the quasienergies are independent of the starting point.\"]\n",
    "\n",
    "explanation = (\"Choosing a different starting point applies a unitary transformation \"\n",
    "               \"to the Floquet evolution operator, and so it keeps the quasienergies the same.\")\n",
    "\n",
    "MoocMultipleChoiceAssessment(question=question, answers=answers, correct_answer=3, explanation=explanation)"
   ]
  },
  {
   "cell_type": "markdown",
   "metadata": {},
   "source": [
    "# Driven Majorana wire"
   ]
  },
  {
   "cell_type": "markdown",
   "metadata": {},
   "source": [
    "Let us start by considering something we know very well, namely the superconducting Majorana nanowire model from week 2. This model has three important parameters which determine whether the wire is in the topological Majorana phase or not: the chemical potential $\\mu$, the superconducting gap $\\Delta$, and the magnetic field $B$. The topological phase with unpaired Majorana modes at zero energy is realized for $B > \\sqrt{\\mu^2 + \\Delta^2}$.\n",
    "\n",
    "Now, imagine that we can periodically drive some of these parameters. For instance, consider the simple example when\n",
    "\n",
    "$$\n",
    "\\mu = \\left\\{\n",
    "\\begin{matrix}\n",
    "\\mu_1 \\quad \\text{for } 0 < t < T/2 \\\\\n",
    "\\mu_2 \\quad \\text{for } T/2 < t < T\n",
    "\\end{matrix}\\right.\n",
    "$$\n",
    "\n",
    "Then, the integral to find the time evolution operator is easy to evaluate, and we simply have\n",
    "\n",
    "$$\n",
    "U = \\exp(i T H_2 / 2) \\exp(i T H_1 / 2)\n",
    "$$\n",
    "\n",
    "with $H_1$ and $H_2$ the nanowire Hamiltonians with chemical potential $\\mu_1$ and $\\mu_2$. A peculiar property of driven systems is that as the period becomes large, the band structure 'folds': if the driving is very weak, and the original Hamiltonian has energy $E$, the Floquet Hamiltonian has a much smaller quasienergy $(E\\bmod 2\\pi /T)$. This means that even when $H_1$ and $H_2$ correspond to trivial systems, we can still obtain nontrivial topology if we make the period large enough, as you can see for yourself:"
   ]
  },
  {
   "cell_type": "code",
   "execution_count": null,
   "metadata": {
    "collapsed": false
   },
   "outputs": [],
   "source": [
    "%%opts Path {+axiswise}\n",
    "\n",
    "def nanowire_chain(L=None):\n",
    "    lat = kwant.lattice.chain()\n",
    "\n",
    "    def onsite(site, p):\n",
    "        return (2*p.t - p.mu) * pauli.szs0 + p.B * pauli.s0sz + p.delta * pauli.sxs0\n",
    "\n",
    "    def hopping(site1, site2, p):\n",
    "        return -p.t * pauli.szs0 + 0.5 * 1j * p.alpha * pauli.szsx\n",
    "\n",
    "    if L:\n",
    "        syst = kwant.Builder()\n",
    "    else:\n",
    "        syst = kwant.Builder(kwant.TranslationalSymmetry((-1,)))\n",
    "        L = 1\n",
    "\n",
    "    syst[(lat(x) for x in range(L))] = onsite\n",
    "    syst[kwant.HoppingKind((1,), lat)] = hopping\n",
    "\n",
    "    return syst\n",
    "\n",
    "\n",
    "def calculate_finite_spectrum(periods, hamiltonians):\n",
    "    energies = []\n",
    "    for T in periods:\n",
    "        U = evolution_operator(hamiltonians, T)\n",
    "        phases = np.angle(la.eigvals(U))\n",
    "        phases = np.sort(np.abs(phases))\n",
    "        ev = np.sort([(-1)**n * val for n, val in enumerate(phases)])\n",
    "        energies.append(ev)\n",
    "    return np.array(energies).real\n",
    "\n",
    "\n",
    "def calculate_bands(momenta, hamiltonians_k, T):\n",
    "    energies = []\n",
    "    for k in momenta:\n",
    "        hamiltonians = [h_k(k) for h_k in hamiltonians_k]\n",
    "        U = evolution_operator(hamiltonians, T)\n",
    "        phases = np.angle(la.eigvals(U))\n",
    "        phases = np.sort(np.abs(phases))\n",
    "        ev = np.sort([(-1)**n * val for n, val in enumerate(phases)])\n",
    "        energies.append(ev)\n",
    "    return np.array(energies).real\n",
    "\n",
    "\n",
    "J = 2.0\n",
    "p1 = SimpleNamespace(t=J/2, mu=-1*J, B=J, delta=2*J, alpha=J)\n",
    "p2 = SimpleNamespace(t=J/2, mu=-3*J, B=J, delta=2*J, alpha=J)\n",
    "\n",
    "syst = nanowire_chain(L=20).finalized()\n",
    "H1 = syst.hamiltonian_submatrix(args=[p1])\n",
    "H2 = syst.hamiltonian_submatrix(args=[p2])\n",
    "\n",
    "lead = wraparound(nanowire_chain(L=None)).finalized()\n",
    "h1_k = lambda kx: lead.hamiltonian_submatrix(args=[p1, kx])\n",
    "h2_k = lambda kx: lead.hamiltonian_submatrix(args=[p2, kx])\n",
    "\n",
    "periods = np.linspace(0.2 / J, 1.6 / J, 100)\n",
    "momenta = np.linspace(-np.pi, np.pi)\n",
    "\n",
    "energies = calculate_finite_spectrum(periods, [H1, H2])\n",
    "spectrum = np.array([calculate_bands(momenta, [h1_k, h2_k], T) for T in periods])\n",
    "\n",
    "\n",
    "def plot(n):\n",
    "    T = J * periods[n]\n",
    "\n",
    "    plot_1 = holoviews.Path((J * periods, energies),\n",
    "                         kdims=[r'Driving period $(JT)$', r'Quasi-energy $(ET)$'],\n",
    "                         label='Finite system')(plot={'xticks': 5, 'yticks': pi_ticks})\n",
    "\n",
    "    VLine = holoviews.VLine(T)(style={'color': 'b', 'linestyle': '--'})\n",
    "\n",
    "    plot_2 = holoviews.Path((momenta, spectrum[n]),\n",
    "                         kdims=['$k$', '$E_kT$'],\n",
    "                         label='Floquet bands')(plot={'xticks': pi_ticks,\n",
    "                                                      'yticks': pi_ticks,\n",
    "                                                      'aspect': 'equal'})\n",
    "    return plot_1 * VLine + plot_2\n",
    "\n",
    "holoviews.HoloMap({n: plot(n) for n in np.arange(0, 100, 10)}, kdims=['n']).collate()"
   ]
  },
  {
   "cell_type": "markdown",
   "metadata": {},
   "source": [
    "On the left you see the Floquet spectrum of a finite system as a function of the driving period measured in units of the hopping strength, and on the right you see the Floquet dispersion in momentum space."
   ]
  },
  {
   "cell_type": "markdown",
   "metadata": {},
   "source": [
    "We now witness a cool phenomenon: just like in the undriven case, the particle-hole symmetry maps $E \\rightarrow -E$, but now this means that not only $E = 0$ is special, but also $E = \\pi$!\n",
    "\n",
    "In other words, this means that there are two relevant gaps in the effective Floquet BdG Hamiltonian $H_\\textrm{eff}$. Now, by using the same argument as we used for the regular Majoranas, we learn that if we have an isolated Floquet state with a quasienergy $\\epsilon=0$ or $\\epsilon=\\pi$, it cannot be removed unless the gap surrounding it closes.\n",
    "\n",
    "In other words:\n",
    "\n",
    "> A Floquet superconductor has two types of Majorana bound states: the usual ones with quasienergy $\\epsilon=0$, and the $\\pi$-Majoranas that are as far from zero energy as possible."
   ]
  },
  {
   "cell_type": "markdown",
   "metadata": {},
   "source": [
    "So the calculation above reveals two interesting features of driven systems: the first is that the periodic driving can turn a trivial system into a non-trivial system with topologically protected Floquet states. The second is that topology is richer than in the non-driven system: for instance, here the richness comes from the fact that the topologically protected states may occur at two different points in the spectrum."
   ]
  },
  {
   "cell_type": "markdown",
   "metadata": {},
   "source": [
    "Now try to answer the following question: what's the topological invariant of this system? How do we tell whether normal Majoranas are present, and whether $\\pi$-Majoranas are present? (We'll return to this question in the end of the lecture.)"
   ]
  },
  {
   "cell_type": "markdown",
   "metadata": {},
   "source": [
    "# A Floquet Chern insulator"
   ]
  },
  {
   "cell_type": "markdown",
   "metadata": {},
   "source": [
    "As a second example of a driven system that shows something that the undriven system doesn't, let's consider the following toy model.\n",
    "\n",
    "We take a square lattice with time-dependent nearest neighbor hopping $t$. Next, let's engineer a time-evolution of the hopping between sites such that during a period $T$ hoppings are turned on in an alternate fashion, as in the following figure:"
   ]
  },
  {
   "cell_type": "markdown",
   "metadata": {},
   "source": [
    "![](figures/time_steps.svg)"
   ]
  },
  {
   "cell_type": "markdown",
   "metadata": {},
   "source": [
    "Each step lasts one quarter of a period.\n",
    "\n",
    "Now let's tune the period such that the probability for an electron to hop along a hopping is one at the end of each quarter period [$t = (\\pi / 2) / (T / 4)$]. Over the complete period the trajectories of electrons will look like this:"
   ]
  },
  {
   "cell_type": "markdown",
   "metadata": {},
   "source": [
    "![](figures/floquet_bulk.svg)"
   ]
  },
  {
   "cell_type": "markdown",
   "metadata": {},
   "source": [
    "Every electron makes a closed loop and ends up back at its origin. After every single period the system is back to its initial state. In other words, the Floquet operator is $U=1$, and $H_\\textrm{eff}=0$.\n",
    "\n",
    "Let's have a look at the dispersion, and also see what happens as we tune the driving period:"
   ]
  },
  {
   "cell_type": "code",
   "execution_count": null,
   "metadata": {
    "collapsed": false
   },
   "outputs": [],
   "source": [
    "%%output size=200\n",
    "def plot_dispersion_2D(T):\n",
    "    syst = checkerboard()\n",
    "    B = np.array(syst.symmetry.periods).T\n",
    "    A = B.dot(np.linalg.inv(B.T.dot(B)))\n",
    "    syst = wraparound(syst).finalized()\n",
    "    \n",
    "    def hamiltonian_k(par):\n",
    "        def f(kx, ky):\n",
    "            kx, ky = np.linalg.lstsq(A, [kx, ky])[0]\n",
    "            ham = syst.hamiltonian_submatrix(args=[par, kx, ky])\n",
    "            return ham\n",
    "        return f\n",
    "\n",
    "    hamiltonians_k = [\n",
    "        hamiltonian_k(SimpleNamespace(t1=1, t2=0, t3=0, t4=0)),    \n",
    "        hamiltonian_k(SimpleNamespace(t1=0, t2=1, t3=0, t4=0)),    \n",
    "        hamiltonian_k(SimpleNamespace(t1=0, t2=0, t3=1, t4=0)),    \n",
    "        hamiltonian_k(SimpleNamespace(t1=0, t2=0, t3=0, t4=1))]\n",
    "\n",
    "    def get_energies(kx, ky):\n",
    "        hamiltonians = [h_k(kx, ky) for h_k in hamiltonians_k]\n",
    "        U = evolution_operator(hamiltonians, T)\n",
    "        ev = np.sort(np.angle(la.eigvals(U)))\n",
    "        return ev\n",
    "\n",
    "    K = np.linspace(-np.pi, np.pi, 50)\n",
    "    energies = np.array([[get_energies(kx, ky) for kx in K] for ky in K])\n",
    "\n",
    "    ticks = {'xticks': pi_ticks[::2], 'yticks': pi_ticks[::2], 'zticks': 3}\n",
    "    kwargs = {'extents': (-np.pi, -np.pi, -4, np.pi, np.pi, 4),\n",
    "              'kdims': ['$k_x$', '$k_y$'],\n",
    "              'vdims': ['$E$']}\n",
    "\n",
    "    title = r'$T = {:.2} \\pi$'.format(T / np.pi)\n",
    "    \n",
    "    return (holoviews.Surface(energies[:, :, 0], **kwargs)(plot=ticks) *\n",
    "            holoviews.Surface(energies[:, :, 1], **kwargs)(plot=ticks)).relabel(title)\n",
    "\n",
    "Ts = np.linspace(1, 3, 11, endpoint=True)\n",
    "holoviews.HoloMap({T: plot_dispersion_2D(np.pi*T) for T in Ts}, kdims=['$T$'])"
   ]
  },
  {
   "cell_type": "markdown",
   "metadata": {},
   "source": [
    "Now, there isn't a Hamiltonian which is more topologically trivial than the zero Hamiltonian. We may be tempted to conclude that our system is trivial and, by bulk-boundary correspondence, has no edge states.\n",
    "\n",
    "That's something we can also very easily verify by computing the dispersion of a finite size ribbon:"
   ]
  },
  {
   "cell_type": "code",
   "execution_count": null,
   "metadata": {
    "collapsed": false
   },
   "outputs": [],
   "source": [
    "%%output size=200\n",
    "def calculate_bands(momenta, hamiltonians_k, T):\n",
    "    energies = []\n",
    "    for k in momenta:\n",
    "        hamiltonians = [h_k(k) for h_k in hamiltonians_k]\n",
    "        U = evolution_operator(hamiltonians, T)\n",
    "        energies.append(np.sort(np.angle(la.eigvals(U))))\n",
    "    return np.array(energies).real\n",
    "\n",
    "\n",
    "ribbon_lead = checkerboard(10).finalized()\n",
    "\n",
    "hamiltonians_k = [\n",
    "    get_h_k(ribbon_lead, SimpleNamespace(t1=1, t2=0, t3=0, t4=0)),\n",
    "    get_h_k(ribbon_lead, SimpleNamespace(t1=0, t2=1, t3=0, t4=0)),\n",
    "    get_h_k(ribbon_lead, SimpleNamespace(t1=0, t2=0, t3=1, t4=0)),\n",
    "    get_h_k(ribbon_lead, SimpleNamespace(t1=0, t2=0, t3=0, t4=1))]\n",
    "\n",
    "periods = np.linspace(0, 4*np.pi, 11)\n",
    "momenta = np.linspace(-np.pi, np.pi)\n",
    "spectrum = np.array([calculate_bands(momenta, hamiltonians_k, T) for T in periods])\n",
    "\n",
    "def plot(n):\n",
    "    T = periods[n]\n",
    "    title = r'spectrum: $T={:.2} \\pi$'.format(T/np.pi)\n",
    "    return holoviews.Path((momenta, spectrum[n]),\n",
    "                           label=title,\n",
    "                           kdims=['$k$', '$E_kT$'])(plot={'xticks': pi_ticks,\n",
    "                                                          'yticks': pi_ticks,\n",
    "                                                          'aspect': 3})\n",
    "\n",
    "holoviews.HoloMap({n: plot(n) for n in range(11)}, kdims=['n'])"
   ]
  },
  {
   "cell_type": "markdown",
   "metadata": {},
   "source": [
    "We see something very different from our expectations. All the bulk states are indeed at $E=0$, but there are two branches of dispersion that are clearly propagating. These can only belong to the edges, and since the two edges look identical, these two modes have to belong to the opposite edges. We seem to conclude that even though the bulk Hamiltonian is trivial, the edges carry chiral edge states, as if there was a finite Chern number.\n",
    "\n",
    "When the driving period is tuned to ensure the absence of bulk dispersion, we can also understand why the edge states appear. If we select a state that starts on the edge, and follow it for one period, we find that there are modes that never leave the edge, since one of the hoppings in the vertical direction is absent."
   ]
  },
  {
   "cell_type": "markdown",
   "metadata": {},
   "source": [
    "![](figures/trajectories.svg)"
   ]
  },
  {
   "cell_type": "markdown",
   "metadata": {},
   "source": [
    "So what is happening with bulk-edge correspondence?"
   ]
  },
  {
   "cell_type": "code",
   "execution_count": null,
   "metadata": {
    "collapsed": false
   },
   "outputs": [],
   "source": [
    "question = (\"How can you change the chirality of the edge states in the figure above?\")\n",
    "\n",
    "answers = [\"By changing the driving period.\",\n",
    "           \"By reversing the driving protocol sequence.\",\n",
    "           \"By changing the sign of the nearest neighbor hopping.\",\n",
    "           \"By making the electrons start from the black sublattice.\"]\n",
    "\n",
    "explanation = (\"Reversing the driving protocol is the same as applying time-reversal symmetry, \"\n",
    "               \"so it will reverse the direction of the chiral edge modes\")\n",
    "\n",
    "MoocMultipleChoiceAssessment(question=question, answers=answers, correct_answer=1, explanation=explanation)"
   ]
  },
  {
   "cell_type": "markdown",
   "metadata": {},
   "source": [
    "# Bulk-edge correspondence in driven systems"
   ]
  },
  {
   "cell_type": "markdown",
   "metadata": {},
   "source": [
    "The two examples we've studied reveal an imporant feature of topological Floquet insulators. It seems that knowing the bulk Floquet Hamiltonian is sufficient to calculate the topological invariant, by just applying the known expression to the Floquet Hamiltonian. However, that's not enough.\n",
    "\n",
    "In rough terms, the reason for this insufficiency is due to Floquet topological insulators missing a topologically trivial state which can be taken as a reference. With any regular 2D Hamiltonian, we know that if we take $E \\rightarrow -\\infty$, we will get a trivial system with the Chern number zero. In a Floquet system, the only thing that lowering the energy tells us is that the Chern number is periodic in quasienergy, like any other observable property.\n",
    "\n",
    "What do we need to know to derive the full topological invariant from the bulk properties? The answer is that we need the complete evolution operator for all moments in time, or in other words the full dependence $H(t)$. The actual calculation of the topological invariant is technically involved, and falls beyond what we can cover in this course. Moreover, to the best of our knowledge, the full classification of Floquet topological insulators is not yet accomplished."
   ]
  },
  {
   "cell_type": "markdown",
   "metadata": {},
   "source": [
    "# Conclusions"
   ]
  },
  {
   "cell_type": "code",
   "execution_count": null,
   "metadata": {
    "collapsed": false
   },
   "outputs": [],
   "source": [
    "MoocVideo(\"DbyqIczcR9c\", src_location=\"11.1-summary\")"
   ]
  },
  {
   "cell_type": "markdown",
   "metadata": {},
   "source": [
    "Questions about what you just learned? Ask them below!"
   ]
  },
  {
   "cell_type": "code",
   "execution_count": null,
   "metadata": {
    "collapsed": false
   },
   "outputs": [],
   "source": [
    "MoocDiscussion(\"Questions\", \"Floquet\")"
   ]
  }
 ],
 "metadata": {
  "kernelspec": {
   "display_name": "Python 3",
   "language": "python",
   "name": "python3"
  },
  "language_info": {
   "codemirror_mode": {
    "name": "ipython",
    "version": 3
   },
   "file_extension": ".py",
   "mimetype": "text/x-python",
   "name": "python",
   "nbconvert_exporter": "python",
   "pygments_lexer": "ipython3"
  }
 },
 "nbformat": 4,
 "nbformat_minor": 0
}
