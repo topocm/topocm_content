{
 "cells": [
  {
   "cell_type": "code",
   "execution_count": null,
   "metadata": {
    "collapsed": false
   },
   "outputs": [],
   "source": [
    "import sys\n",
    "sys.path.append('../code')\n",
    "from init_mooc_nb import *\n",
    "init_notebook()\n",
    "from holoviews.core.options import Cycle\n",
    "%output size=120\n",
    "pi_ticks = [(-np.pi, r'$-\\pi$'), (0, '0'), (np.pi, r'$\\pi$')]\n",
    "\n",
    "\n",
    "def ts_modulated_wire(L=50):\n",
    "    \"\"\"Create an infinite wire with a periodic potential\n",
    "\n",
    "    Chain lattice, one orbital per site.\n",
    "    Returns finalized kwant system.\n",
    "\n",
    "    Arguments required in onsite/hoppings: \n",
    "        t, mu, mu_lead, A, phase\n",
    "\n",
    "    The period of the potential is 2*pi/L.\n",
    "    \"\"\"\n",
    "    omega = 2 * np.pi / L\n",
    "\n",
    "    def onsite(site, p):\n",
    "        x = site.pos[0]\n",
    "        return 2 * p.t - p.mu + p.A * (np.cos(omega * x + p.phase) + 1)\n",
    "\n",
    "    def hopping(site1, site2, p):\n",
    "        return -p.t\n",
    "\n",
    "    sym_lead = kwant.TranslationalSymmetry([-L])\n",
    "\n",
    "    lat = kwant.lattice.chain()\n",
    "    sys = kwant.Builder(sym_lead)\n",
    "\n",
    "    sys[(lat(x) for x in range(L))] = onsite\n",
    "    sys[lat.neighbors()] = hopping\n",
    "\n",
    "    return sys\n",
    "\n",
    "\n",
    "def modulated_wire(L=50, dL=10):\n",
    "    \"\"\"Create a pump. \n",
    "\n",
    "    Chain lattice, one orbital per site.\n",
    "    Returns finalized kwant system.\n",
    "\n",
    "    L is the length of the pump,\n",
    "    dL is the length of the clean regions next to the pump,\n",
    "            useful for demonstration purposes.\n",
    "\n",
    "    Arguments required in onsite/hoppings: \n",
    "        t, mu, mu_lead, A, omega, phase\n",
    "    \"\"\"\n",
    "    def onsite(site, p):\n",
    "        x = site.pos[0]\n",
    "        return 2 * p.t - p.mu + p.A * (np.cos(p.omega * x + p.phase) + 1)\n",
    "\n",
    "    lead_onsite = lambda site, p: 2 * p.t - p.mu_lead\n",
    "\n",
    "    def hopping(site1, site2, p):\n",
    "        return -p.t\n",
    "\n",
    "    lat = kwant.lattice.chain()\n",
    "    sys = kwant.Builder()\n",
    "\n",
    "    sys[(lat(x) for x in range(L))] = onsite\n",
    "    sys[lat.neighbors()] = hopping\n",
    "\n",
    "#     lead = kwant.Builder(kwant.TranslationalSymmetry(*lat.prim_vecs)) \n",
    "    sym_lead = kwant.TranslationalSymmetry([-1])\n",
    "    lead = kwant.Builder(sym_lead)\n",
    "    lead[lat(0)] = lead_onsite\n",
    "    lead[lat.neighbors()] = hopping\n",
    "\n",
    "    sys.attach_lead(lead)\n",
    "    sys.attach_lead(lead.reversed())\n",
    "\n",
    "    return sys\n",
    "\n",
    "\n",
    "def total_charge(value_array):\n",
    "    \"\"\"Calculate the pumped charge from the list of reflection matrices.\"\"\"\n",
    "    determinants = [np.linalg.det(r) for r in value_array]\n",
    "    charge = np.cumsum(np.angle(np.roll(determinants, -1) / determinants))\n",
    "    charge = charge - charge[0]\n",
    "    return charge / (2 * np.pi)\n"
   ]
  },
  {
   "cell_type": "markdown",
   "metadata": {},
   "source": [
    "# Thouless pumps"
   ]
  },
  {
   "cell_type": "markdown",
   "metadata": {},
   "source": [
    "Dganit Meiden from Ben Gurion University will introduce Thouless pumps,."
   ]
  },
  {
   "cell_type": "code",
   "execution_count": null,
   "metadata": {
    "collapsed": false
   },
   "outputs": [],
   "source": [
    "MoocVideo(\"gKZK9IGY9wo\", src_location='3.1-intro', res='360')"
   ]
  },
  {
   "cell_type": "markdown",
   "metadata": {},
   "source": [
    "# Hamiltonians with parameters"
   ]
  },
  {
   "cell_type": "markdown",
   "metadata": {},
   "source": [
    "Previously, when studying topology of systems supporting Majoranas (both the Kitaev chain and the nanowire), we were able to calculate topological properties from studying the bulk Hamiltonian $H(k)$.\n",
    "\n",
    "There are two points of view on this Hamiltonian. We could either consider it a Hamiltonian of an infinite system with momentum conservation\n",
    "\n",
    "$$H = H(k) |k\\rangle\\langle k|$$\n",
    "\n",
    "or we could equivalently say that we study a finite system with only a small number of degrees of freedom (corresponding to a single unit cell), and a Hamiltonian depending on a continuous periodic parameter $k$.\n",
    "\n",
    "Of course without specifying that $k$ is the real space momentum, there is no meaning in bulk-edge correspondence (since the edge is an edge in real space), but the topological properties are still well-defined."
   ]
  },
  {
   "cell_type": "markdown",
   "metadata": {},
   "source": [
    "The need to study a Hamiltonian with external parameters arises when we want to know what happens if we slowly change parameters of a system, so that\n",
    "\n",
    "$$H = H(t)$$\n",
    "\n",
    "The slow adiabatical change of parameters ensures that if the system was initially in the ground state, it will stay in the ground state, so that the topological properties are useful.\n",
    "\n",
    "A further requirement for topology to be useful is the *periodicity* of time evolution:\n",
    "\n",
    "$$H(t) = H(t+T).$$\n",
    "\n",
    "The period can even go to $\\infty$, in which case $H(-\\infty) = H(+\\infty)$. The reasons for the requirement of periodicity are somewhat abstract. If the Hamiltonian has parameters, we're studying topology of a *mapping* from the space of parameter values to the space of all possible gapped Hamiltonians. This mapping has nontrivial topological properties only if the space of parameter values is compact.\n",
    "\n",
    "For us this once again means that the Hamiltonian has to be periodic in time."
   ]
  },
  {
   "cell_type": "markdown",
   "metadata": {},
   "source": [
    "Of course, if we want systems with bulk-edge correspondence, then in addition to $t$ our Hamiltonian must still depend on the real space coordinate, or the momentum $k$."
   ]
  },
  {
   "cell_type": "markdown",
   "metadata": {},
   "source": [
    "# Quantum pumps"
   ]
  },
  {
   "cell_type": "markdown",
   "metadata": {},
   "source": [
    "On the image below (source: Chambers's Encyclopedia, 1875, via Wikipedia) you see a very simple periodic time-dependent system, an Archimedes screw pump."
   ]
  },
  {
   "cell_type": "markdown",
   "metadata": {},
   "source": [
    "![](figures/Archimedes_screw.jpg)"
   ]
  },
  {
   "cell_type": "markdown",
   "metadata": {},
   "source": [
    "The changes to the system are clearly periodic, and the pump works the same no matter how slowly we change the parameters, so it is an adiabatic tool.\n",
    "\n",
    "What about a quantum analog of this pump? Turns out it is just as simple as you would think.\n",
    "\n",
    "Let's take a one-dimensional region, coupled to two electrodes on both sides, and apply a strong sine-shaped confining potential in this region. As we move the confining potential, we will be dragging electrons captured in it.\n",
    "\n",
    "So our system now looks like this"
   ]
  },
  {
   "cell_type": "code",
   "execution_count": null,
   "metadata": {
    "collapsed": false
   },
   "outputs": [],
   "source": [
    "# Plot of the potential in the pumping system as a function of coordinate.\n",
    "# Some part of the leads is shown with a constant potential.\n",
    "# Regions with E < 0 should be shaded to emulate Fermi sea.\n",
    "A = 0.6\n",
    "L = 10\n",
    "lamb = (10 / 5.3) / (2 * np.pi)\n",
    "mu = -0.4\n",
    "mu_lead = -0.8\n",
    "\n",
    "\n",
    "def f(x):\n",
    "    if x < 0.0:\n",
    "        return mu_lead\n",
    "    if x >= 0.0 and x <= L:\n",
    "        return mu + A * (1.0 - np.cos(x / lamb))\n",
    "    if x > L:\n",
    "        return mu_lead\n",
    "\n",
    "x = np.linspace(-5, 15, 1000)\n",
    "y = np.array([f(i) for i in x])\n",
    "\n",
    "plot = holoviews.Path((x, y))[-2.5:12.5, -2:2](style={'color': 'k', 'linewidth': 1.2}, plot={'xticks':0, 'yticks': 0})\n",
    "y = np.array([i if i <= 0 else 0 for i in y])\n",
    "plot *= holoviews.Area((x, y))#, where=y < 0.0)\n",
    "plot"
   ]
  },
  {
   "cell_type": "code",
   "execution_count": null,
   "metadata": {
    "collapsed": false
   },
   "outputs": [],
   "source": [
    "%matplotlib inline\n",
    "# Plot of the potential in the pumping system as a function of coordinate.\n",
    "# Some part of the leads is shown with a constant potential.\n",
    "# Regions with E < 0 should be shaded to emulate Fermi sea.\n",
    "A = 0.6\n",
    "L = 10\n",
    "lamb = (10 / 5.3) / (2 * np.pi)\n",
    "mu = -0.4\n",
    "mu_lead = -0.8\n",
    "\n",
    "\n",
    "def f(x):\n",
    "    if x < 0.0:\n",
    "        return mu_lead\n",
    "    if x >= 0.0 and x <= L:\n",
    "        return mu + A * (1.0 - np.cos(x / lamb))\n",
    "    if x > L:\n",
    "        return mu_lead\n",
    "\n",
    "x = np.linspace(-5, 15, 1000)\n",
    "y = [f(i) for i in x]\n",
    "\n",
    "plt.figure(figsize=(6, 4))\n",
    "plt.plot(x, y, 'k', lw=1.2)\n",
    "\n",
    "plt.xlim(-2.5, 12.5)\n",
    "plt.ylim(-2, 2)\n",
    "\n",
    "y = [i if i <= 0 else 0 for i in y]\n",
    "plt.fill_between(x, y, 0, color='r', where=np.array(y) <\n",
    "                 0.0, alpha=0.5, edgecolor='k', lw='1.5')\n",
    "\n",
    "plt.arrow(2.0, 1.25, 5, 0, head_width=0.15, head_length=1.0, fc='k', ec='k')\n",
    "\n",
    "plt.xlabel('$x$')\n",
    "plt.ylabel('$U(x)$')\n",
    "plt.xticks([])\n",
    "plt.yticks([])\n",
    "plt.show()"
   ]
  },
  {
   "cell_type": "markdown",
   "metadata": {},
   "source": [
    "It is described by the Hamiltonian\n",
    "\n",
    "$$H(t) = \\frac{k^2}{2m} + A [1 - \\cos(x/\\lambda + 2\\pi t/T)].$$\n",
    "\n",
    "As we agreed, we change $t$ very slowly, so that our answer won't depend on the speed of changing $t$.\n",
    "\n",
    "When $A \\gg 1 /m \\lambda^2$ the confining potential is strong, and additionally if the chemical potential $\\mu \\ll A$, the states bound in each minimum of the potential are only overlapping very weakly.\n",
    "\n",
    "We can approximate the potential near the bottom of each well as quadratic making the Hamiltonian that of a simple Harmonic oscillator. This gives us discrete levels of the electrons with energies $E_n = (n + \\tfrac{1}{2})\\omega_c$, with $\\omega_c = \\sqrt{A/m\\lambda^2}$ the oscillator frequency.\n",
    "\n",
    "We can quickly check how continuous bands in the wire become discrete evenly spaced bands as we increase $A$:"
   ]
  },
  {
   "cell_type": "code",
   "execution_count": null,
   "metadata": {
    "collapsed": false
   },
   "outputs": [],
   "source": [
    "p = SimpleNamespace(t=1, mu=0.0, phase=0.0)\n",
    "sys = ts_modulated_wire(L=17)\n",
    "\n",
    "def title(p):\n",
    "    return \"Band structure, $A={}$\".format(np.round(p.A, 2))\n",
    "\n",
    "kwargs = {'ylims': [-0.2, 1.3],\n",
    "          'xticks': pi_ticks,\n",
    "          'yticks': [0, 0.5, 1.0],\n",
    "          'xdim': r'$k$',\n",
    "          'ydim': r'$E$',\n",
    "          'k_x': np.linspace(-np.pi, np.pi, 101),\n",
    "          'title': title}\n",
    "\n",
    "\n",
    "holoviews.HoloMap({A: spectrum(sys, p.update(A=A), **kwargs) for A in np.linspace(0, 0.8, 10)}, kdims=[r'$A$'])"
   ]
  },
  {
   "cell_type": "markdown",
   "metadata": {},
   "source": [
    "So unless $\\mu = E_n$ for some $n$, each minimum of the potential well contains an integer number of electrons $N$.\n",
    "\n",
    "The electron wave functions from the neighboring potential wells do not overlap, therefore when we move the potential by one period, we move exactly $N$ electrons."
   ]
  },
  {
   "cell_type": "code",
   "execution_count": null,
   "metadata": {
    "collapsed": false
   },
   "outputs": [],
   "source": [
    "question = \"Why are some levels in the band structure flat and some aren't?\"\n",
    "answers = [\"The flat levels are the ones whose energies are not sensitive to the offset of confining potential.\",\n",
    "           \"Destructive interference of the wave functions in the neighboring minima suppresses the dispersion.\",\n",
    "           \"The flat levels are localized deep in the potential minima, \"\n",
    "           \"so the bandwidth is exponentially small.\",\n",
    "           \"The flat levels correspond to the filled states, and the rest to empty states.\"]\n",
    "explanation = (\"The dispersion of the bands in a perodic potential appears \"\n",
    "               \"when the wave functions from the neighboring minima overlap.\")\n",
    "\n",
    "MoocMultipleChoiceAssessment(question=question, answers=answers, correct_answer=2, explanation=explanation)"
   ]
  },
  {
   "cell_type": "markdown",
   "metadata": {},
   "source": [
    "# Quantization of pumped charge"
   ]
  },
  {
   "cell_type": "markdown",
   "metadata": {},
   "source": [
    "As we already learned, integers are important, and they could indicate that something topological is happening.\n",
    "\n",
    "At this point we should ask these questions: Is the number of electrons $N$ pumped per cycle topological, or can we pump any continuous amount of charge? How important is it that the potential well is deep?"
   ]
  },
  {
   "cell_type": "markdown",
   "metadata": {},
   "source": [
    "### Thought experiment\n",
    "\n",
    "To simplify the counting let's \"dry out\" the pump: We can define a procedure that empties the middle region, and pushes $n_L$ extra electrons to the left and $n_R$ electrons to the right.\n",
    "\n",
    "For example, we can do this:"
   ]
  },
  {
   "cell_type": "code",
   "execution_count": null,
   "metadata": {
    "collapsed": false
   },
   "outputs": [],
   "source": [
    "# Same plot as above, but now with an extra rectangular barrier in the \n",
    "# middle, and with arrows both ways showing that the barrier widens.\n",
    "\n",
    "# Plot of the potential in the pumping system as a function of coordinate.\n",
    "# Some part of the leads is shown with a constant potential.\n",
    "# Regions with E < 0 should be shaded to emulate Fermi sea.\n",
    "\n",
    "# Plot of the potential in the pumping system as a function of coordinate.\n",
    "# Some part of the leads is shown with a constant potential.\n",
    "# Regions with E < 0 should be shaded to emulate Fermi sea.\n",
    "A=0.6\n",
    "L=10\n",
    "lamb=(10/5.3)/(2*np.pi)\n",
    "mu = -0.4\n",
    "mu_lead=-0.8\n",
    "a   = 4.5\n",
    "b   = 6.5\n",
    "top = 1.2\n",
    "\n",
    "def f(x):\n",
    "    if x < 0.0:\n",
    "        return mu_lead\n",
    "    if x >= 0.0 and x <= a:\n",
    "        return mu + A * (1.0 - np.cos(x/lamb))\n",
    "    if x > a and x < b:\n",
    "        return top\n",
    "    if x >= b and x <= L:\n",
    "        return mu + A * (1.0 - np.cos(x/lamb))\n",
    "    if x > L:\n",
    "        return mu_lead\n",
    "\n",
    "\n",
    "x = np.linspace(-5,15,1000)\n",
    "y = [f(i) for i in x]\n",
    "\n",
    "plt.figure(figsize=(6,4))\n",
    "plt.plot(x,y, 'k', lw=1.2)\n",
    "plt.xlim(-2.5,12.5)\n",
    "plt.ylim(-2,2)\n",
    "y = [i if i <= 0 else 0 for i in y]\n",
    "plt.fill_between(x, y, 0, color='r', where=np.array(y) < 0.0, alpha=0.5, edgecolor='k', lw='1.5')\n",
    "plt.arrow(a, 1.05 , -1 , 0, head_width=0.1, head_length=0.4, fc='k', ec='k');\n",
    "plt.arrow(b, 1.05 , +1 , 0, head_width=0.1, head_length=0.4, fc='k', ec='k');\n",
    "plt.xlabel('$x$');\n",
    "plt.ylabel('$U(x)$');\n",
    "plt.xticks([]);\n",
    "plt.yticks([]);"
   ]
  },
  {
   "cell_type": "markdown",
   "metadata": {},
   "source": [
    "A reverse of this procedure does the reverse of course, so it reduces the number of charges on the left and the right sides.\n",
    "\n",
    "Now here comes the trick:\n",
    "\n",
    "1. When the middle region is emptied, the two sides are completely disconnected, and so the number of electrons on either side must be integer for every eigenstate of the Hamiltonian.\n",
    "\n",
    "2. Next, if we performed the manipulation adiabatically, then if we start in an eigenstate of the Hamiltonian, we will also end in an eigenstate of the Hamiltonian.\n",
    "\n",
    "3. Adding 1. and 2. together with the procedure of drying the middle out, we conclude that we pumped an exact integer number of charges.\n",
    "\n",
    "4. Finally, the adiabatic manipulation is only possible if the Hamiltonian stays gapped at all times.\n",
    "\n",
    "Bonus: In our argument we didn't use the shape or the strength of the potential, so it applies universally to any possible pump."
   ]
  },
  {
   "cell_type": "markdown",
   "metadata": {},
   "source": [
    "So without doing any calculation we are able to conclude that:\n",
    "\n",
    "> The number of electrons pumped per cycle of a quantum pump is an integer as long as\n",
    "> the bulk of the pump is gapped. Therefore it is a **topological invariant**."
   ]
  },
  {
   "cell_type": "markdown",
   "metadata": {},
   "source": [
    "# Counting electrons through reflection."
   ]
  },
  {
   "cell_type": "markdown",
   "metadata": {},
   "source": [
    "The expression for the pumped charge in terms of the bulk Hamiltonian $H(k, t)$ is complicated.\n",
    "\n",
    "It's an integral over both $k$ and $t$, called a **Chern number** or in other sources a TKNN integer. Its complexity is beyond the scope of our course, but is extremely important, so we will have to study it... next week.\n",
    "\n",
    "There is a much simpler way to calculate the same quantity by using scattering formalism. From the previous two weeks you should remember that presence or absence of Majoranas at an end of the system can be calculated both as $Q = \\textrm{sign}[\\textrm{Pf}\\,H(0)\\,\\textrm{Pf}\\,H(\\pi)]$, and as $Q=\\textrm{sign}\\det r$, where $r$ is the reflection matrix from one end of the Majorana wire."
   ]
  },
  {
   "cell_type": "markdown",
   "metadata": {},
   "source": [
    "In order to derive the scattering expression, we need to understand how does pumped charge manifest in reflection matrix.\n",
    "\n",
    "Let's start from the case when there's just one mode in the reservoir. We'll count the charge pumped by making the reservoir finite although very large.\n",
    "\n",
    "Now all the levels in the reservoir are quantized, and are standing waves, so they are equal weight superpositions of the waves going to the left $\\psi_L$ and to the right $\\psi_R$:\n",
    "\n",
    "$$\n",
    "\\psi_n = \\psi_L(x) + \\psi_R(x) \\propto \\exp(ik_n x) + \\exp(-ik_n x + i\\phi),\n",
    "$$\n",
    "\n",
    "of course the wave momentum $k_n$ is a function of energy. The relative phase shift $\\phi$ is necessary to satisfy the boundary condition at $x=0$, where $\\psi_L = r \\psi_R$, so $\\exp(i \\phi) = r$. The energies of the levels are determined by requiring that the phases of $\\psi_L$ and $\\psi_R$ also match at $x = -L$.\n",
    "\n",
    "Let's think what happens when we pump one extra charge into the reservoir. All the energy levels should shift by one up: $E_n \\rightarrow E_{n+1}$, and accordingly the wave functions must also change $\\psi_n \\rightarrow \\psi_{n+1}$.\n",
    "\n",
    "> We conclude that the charge can only be pumped as the reflection phase $\\phi$ advances by $2\\pi$."
   ]
  },
  {
   "cell_type": "markdown",
   "metadata": {},
   "source": [
    "It's very easy to generalize our argument to many modes. For that we just need to sum all of the reflection phase shifts, which means we need to look at the phase of $\\det r$.\n",
    "\n",
    "We conclude that there's a very compact relation between charge $dq$ pumped by an infinitesimal change of an external parameter and the change in reflection matrix $dr$:\n",
    "\n",
    "$$\n",
    "dq = \\frac{r^\\dagger dr }{ 2 \\pi i}.\n",
    "$$\n",
    "\n",
    "While we proved this relation only for the case when there is no transmission from the reservoir, and $r$ is a unitary matrix, written in this form it also holds if there is some transmission."
   ]
  },
  {
   "cell_type": "markdown",
   "metadata": {},
   "source": [
    "Let's check if this expression holds to our expectations. If $||r||=1$, this is just the number of times the phase of $\\det r$ winds around zero, and it is certainly an integer, as we expected."
   ]
  },
  {
   "cell_type": "markdown",
   "metadata": {},
   "source": [
    "# Applying the topological invariant"
   ]
  },
  {
   "cell_type": "markdown",
   "metadata": {},
   "source": [
    "We're left with a simple exercise.\n",
    "\n",
    "We know now how to calculate the pumped charge during one cycle, so let's just see how it works in practice.\n",
    "\n",
    "The scattering problem in 1D is extremely quick to solve, so let's just calculate the pumped charge versus a function of chemical potential in the pump"
   ]
  },
  {
   "cell_type": "code",
   "execution_count": null,
   "metadata": {
    "collapsed": false
   },
   "outputs": [],
   "source": [
    "%%opts Path.Q (color=Cycle(values=['r', 'g', 'b', 'y']))\n",
    "%%opts HLine (color=Cycle(values=['r', 'g', 'b', 'y']) linestyle='--')\n",
    "\n",
    "def plot_charge(mu):\n",
    "    energy = 0.0\n",
    "    phases = np.linspace(0, 2*np.pi, 100)\n",
    "    p = SimpleNamespace(t=1, mu=mu, mu_lead=mu, A=0.6, omega= .3)\n",
    "    sys = modulated_wire(L=100).finalized()\n",
    "    rs = [kwant.smatrix(sys, energy, args=[p]).submatrix(0, 0) for p.phase in phases]\n",
    "    wn = -total_charge(rs)\n",
    "    title = '$\\mu={}$'.format(np.round(mu, 2))\n",
    "    kdims = [r'$t/T$', r'$q/e$']\n",
    "    plot = holoviews.Path((phases / (2 * np.pi), wn), kdims=kdims, label=title, group='Q')\n",
    "    return plot[:, -0.5:3.5](plot={'xticks': [0, 1], 'yticks': [0, 1, 2, 3]})\n",
    "\n",
    "\n",
    "kwargs = {'ylims': [-0.2, 1.3],\n",
    "          'xticks': pi_ticks,\n",
    "          'yticks': [0, 0.5, 1.0],\n",
    "          'xdim': r'$k$',\n",
    "          'ydim': r'$E$',\n",
    "          'k_x': np.linspace(-np.pi, np.pi, 101),\n",
    "          'title': lambda p: \"Band structure, $A={}$\".format(np.round(p.A, 2))}\n",
    "\n",
    "p = SimpleNamespace(t=1, mu=0.0, phase=0.0, A=0.6)\n",
    "sys = ts_modulated_wire(L=17)\n",
    "mus = [0.1, 0.3, 0.6, 0.9]\n",
    "HLines = holoviews.Overlay([holoviews.HLine(mu) for mu in mus])\n",
    "spectrum(sys, p, **kwargs) * HLines + holoviews.Overlay([plot_charge(mu) for mu in mus]).relabel('Pumped charge')"
   ]
  },
  {
   "cell_type": "markdown",
   "metadata": {},
   "source": [
    "In the left plot, we show the band structure, and the different colors correspond to different chemical potentials. The right plot shows the corresponding pumped charge. During the pumping cycle the charge may change, and the relation between the offset $\\phi$ of the potential isn't always linear. However we see that after a full cycle, the pumped exactly matches the number of filled levels in a single potential well."
   ]
  },
  {
   "cell_type": "markdown",
   "metadata": {},
   "source": [
    "As a final mental exercise about pumps, let's think what happens if we disconnect the leads and consider the spectrum of a closed system.\n",
    "\n",
    "As the periodic potential moves, it tries to increase the energies of all the states at the right of the system and reduce the energy of all the states to the left (that's what pumping does after all).\n",
    "\n",
    "So there should be states crossing the bulk band gap. Let's see if it's true."
   ]
  },
  {
   "cell_type": "code",
   "execution_count": null,
   "metadata": {
    "collapsed": false
   },
   "outputs": [],
   "source": [
    "p = SimpleNamespace(t=1, mu=0.0, mu_lead=0, phase=0.0, A=0.6, omega=0.3)\n",
    "sys = modulated_wire(L=110).finalized()\n",
    "phases = np.linspace(0, 2*np.pi, 100)\n",
    "en = [np.linalg.eigvalsh(sys.hamiltonian_submatrix(args=[p])) for p.phase in phases]\n",
    "en = np.array(en)\n",
    "ticks = {'xticks': [0, 1], 'yticks': [0, 0.5, 1]}\n",
    "kdims = [r'$t/T$', r'$E$']\n",
    "holoviews.Path((phases / (2*np.pi), en), kdims=kdims)[:, 0:1.2](plot=ticks)"
   ]
  },
  {
   "cell_type": "markdown",
   "metadata": {},
   "source": [
    "Indeed, the levels in the bulk stay flat and have a high degeneracy, but we see that there also are single levels that get pushed across the gap. Since bulk is homogeneous, these states have to be localized at the edge.\n",
    "\n",
    "Of course, since we have a finite system, the charge cannot be pumped forever from one end into the other. So the pumping breaks down when you see the edge states crossing with the bulk bands. At these moments the charge can flow back through the bulk."
   ]
  },
  {
   "cell_type": "code",
   "execution_count": null,
   "metadata": {
    "collapsed": false
   },
   "outputs": [],
   "source": [
    "question = (\"What happens to the dependence of the reflection phase shift on time if we \"\n",
    "            \"remove one of the reservoirs and leave the other one?\")\n",
    "answers = [\"It becomes constant.\",\n",
    "           \"For most of the cycle it stays the same, but there appear \"\n",
    "           \"sharp jumps such that the total winding becomes zero.\",\n",
    "           \"Nothing changes, since the two ends of the pump are \"\n",
    "           \"far apart from each other, and the pump is not conducting.\",\n",
    "           \"The reflection phase gets a new time dependence with zero winding, unrelated to the original one.\"]\n",
    "explanation = (\"The total pumped charge must become equal to zero since there's nowhere to place the charge, but \"\n",
    "               \"since the pump is insulating, the phase cannot change \"\n",
    "               \"for most of the cycle unless a sharp resonance appears\")\n",
    "\n",
    "MoocMultipleChoiceAssessment(question=question, answers=answers, correct_answer=1, explanation=explanation)"
   ]
  },
  {
   "cell_type": "markdown",
   "metadata": {},
   "source": [
    "# Quantized charge and scattering invariant"
   ]
  },
  {
   "cell_type": "code",
   "execution_count": null,
   "metadata": {
    "collapsed": false
   },
   "outputs": [],
   "source": [
    "MoocVideo(\"6lXRAZ7hv7E\", src_location='3.1-summary', res='360')"
   ]
  },
  {
   "cell_type": "markdown",
   "metadata": {},
   "source": [
    "**Questions about what you learned? Ask them below**"
   ]
  },
  {
   "cell_type": "code",
   "execution_count": null,
   "metadata": {
    "collapsed": false
   },
   "outputs": [],
   "source": [
    "MoocDiscussion('Questions', 'Quantum pumps')"
   ]
  }
 ],
 "metadata": {
  "kernelspec": {
   "display_name": "Python 3",
   "language": "python",
   "name": "python3"
  },
  "language_info": {
   "codemirror_mode": {
    "name": "ipython",
    "version": 3
   },
   "file_extension": ".py",
   "mimetype": "text/x-python",
   "name": "python",
   "nbconvert_exporter": "python",
   "pygments_lexer": "ipython3"
  }
 },
 "nbformat": 4,
 "nbformat_minor": 0
}
