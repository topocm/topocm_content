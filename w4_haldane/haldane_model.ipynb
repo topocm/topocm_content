{
 "cells": [
  {
   "cell_type": "code",
   "execution_count": null,
   "metadata": {
    "collapsed": false,
    "scrolled": true
   },
   "outputs": [],
   "source": [
    "import sys\n",
    "sys.path.append('../code')\n",
    "from init_mooc_nb import *\n",
    "init_notebook()\n",
    "import scipy\n",
    "from wraparound import wraparound\n",
    "%output size=150\n",
    "pi_ticks = [(-np.pi, r'$-\\pi$'), (0, '0'), (np.pi, r'$\\pi$')]\n",
    "\n",
    "\n",
    "def haldane(w=20, boundary='zigzag'):\n",
    "    def ribbon_shape_zigzag(pos):\n",
    "        fac = np.sqrt(3) / 2\n",
    "        (x, y) = pos\n",
    "        return (-0.5 / np.sqrt(3) - 0.1 <= y < fac * w + 0.01)\n",
    "\n",
    "    def ribbon_shape_armchair(pos):\n",
    "        fac = np.sqrt(3) / 2\n",
    "        (x, y) = pos\n",
    "        return (-1 <= x < w)\n",
    "\n",
    "    def onsite(site, p):\n",
    "        if site.family == a:\n",
    "            return p.m\n",
    "        else:\n",
    "            return -p.m\n",
    "\n",
    "    def nn_hopping(site1, site2, p):\n",
    "        return p.t\n",
    "\n",
    "    def nnn_hopping(site1, site2, p):\n",
    "        return 1j * p.t_2\n",
    "\n",
    "    lat = kwant.lattice.honeycomb()\n",
    "    a, b = lat.sublattices\n",
    "    nnn_hoppings_a = (((-1, 0), a, a), ((0, 1), a, a), ((1, -1), a, a))\n",
    "    nnn_hoppings_b = (((1, 0), b, b), ((0, -1), b, b), ((-1, 1), b, b))\n",
    "\n",
    "    if boundary == 'zigzag':\n",
    "        sys = kwant.Builder(kwant.TranslationalSymmetry((1, 0)))\n",
    "        sys[lat.shape(ribbon_shape_zigzag, (0, 0))] = onsite\n",
    "    elif boundary == 'armchair':\n",
    "        sys = kwant.Builder(kwant.TranslationalSymmetry((0, np.sqrt(3))))\n",
    "        sys[lat.shape(ribbon_shape_armchair, (0, 0))] = onsite\n",
    "    else:\n",
    "        sys = kwant.Builder(kwant.TranslationalSymmetry(*lat.prim_vecs)) \n",
    "        sys[lat.shape(lambda pos: True, (0, 0))] = onsite\n",
    "    \n",
    "    sys[lat.neighbors()] = nn_hopping\n",
    "    sys[[kwant.builder.HoppingKind(*hopping) for hopping in nnn_hoppings_a]] = nnn_hopping\n",
    "    sys[[kwant.builder.HoppingKind(*hopping) for hopping in nnn_hoppings_b]] = nnn_hopping\n",
    "\n",
    "    return sys\n",
    "\n",
    "\n",
    "def Qi_Wu_Zhang():\n",
    "    def onsite(site, p):\n",
    "        return - p.mu * pauli.sz\n",
    "    \n",
    "    def hopx(site1, site2, p):\n",
    "        return - 0.5j * p.delta * pauli.sy - p.t * pauli.sz\n",
    "    \n",
    "    def hopy(site1, site2, p):\n",
    "        return - 1j * p.gamma * pauli.sx  - p.gamma * pauli.sz  \n",
    "    \n",
    "    lat = kwant.lattice.square()\n",
    "\n",
    "    sys = kwant.Builder(kwant.TranslationalSymmetry(*lat.prim_vecs))\n",
    "    sys[lat.shape(lambda pos: True, (0, 0))] = onsite\n",
    "    sys[kwant.HoppingKind((1,0), lat)] = hopx\n",
    "    sys[kwant.HoppingKind((0,1), lat)] = hopy\n",
    "    return sys\n",
    "\n",
    "\n",
    "def berry_curvature(sys, p, ks, num_filled_bands=1):\n",
    "    B = np.array(sys.symmetry.periods).T\n",
    "    A = B.dot(np.linalg.inv(B.T.dot(B)))\n",
    "\n",
    "    sys = wraparound(sys).finalized()\n",
    "\n",
    "    def energy(kx, ky):\n",
    "        k = np.array([kx, ky])\n",
    "        kx, ky = np.linalg.solve(A, k)\n",
    "        H = sys.hamiltonian_submatrix([p, kx, ky], sparse=False)\n",
    "        return scipy.linalg.eigh(H)[1]\n",
    "    \n",
    "    vectors = np.array([[energy(kx, ky)[:, :num_filled_bands] for kx in ks] for ky in ks])\n",
    "    \n",
    "    vectors_x = np.roll(vectors, 1, 0)\n",
    "    vectors_xy = np.roll(vectors_x, 1, 1)\n",
    "    vectors_y = np.roll(vectors, 1, 1)\n",
    "\n",
    "    shifted_vecs = [vectors, vectors_x, vectors_xy, vectors_y]\n",
    "\n",
    "    v_shape = vectors.shape\n",
    "\n",
    "    shifted_vecs = [i.reshape(-1, v_shape[-2], v_shape[-1]) for i in shifted_vecs]\n",
    "\n",
    "    dets = np.ones(len(shifted_vecs[0]), dtype=complex)\n",
    "    for vec, shifted in zip(shifted_vecs, np.roll(shifted_vecs, 1, 0)):\n",
    "        dets *= [np.linalg.det(a.T.conj().dot(b)) for a, b in zip(vec, shifted)]\n",
    "    bc = np.angle(dets).reshape(int(np.sqrt(len(dets))), -1)    \n",
    "    \n",
    "    bc = (bc + np.pi / 2) % (np.pi) - np.pi / 2\n",
    "    \n",
    "    return bc\n",
    "\n",
    "\n",
    "def plot_berry_curvature(sys, p, ks=None, title=None):    \n",
    "    if ks is None:\n",
    "        ks = np.linspace(-np.pi, np.pi, 150, endpoint=False)\n",
    "    bc = berry_curvature(sys, p, ks)[1:-1,1:-1]\n",
    "    vmax = max(np.abs(bc).min(), np.abs(bc).max())\n",
    "    kwargs = {'bounds': (ks.min(), ks.min(), ks.max(), ks.max()),\n",
    "              'kdims': [r'$k_x$', r'$k_y$']}\n",
    "\n",
    "    if callable(title):\n",
    "        kwargs['label'] = title(p)\n",
    "\n",
    "    plot = {'xticks': pi_ticks, 'yticks': pi_ticks}\n",
    "    style = {'clims': [-vmax, vmax]}\n",
    "    return holoviews.Image(bc, **kwargs)(plot=plot, style=style)\n",
    "\n",
    "\n",
    "def title(p):\n",
    "    title = r'$t={t}$, $t_2={t_2}$, $M={m}$'\n",
    "    return title.format(t=np.round(p.t, 2), \n",
    "                        t_2=np.round(p.t_2, 2), \n",
    "                        m=np.round(p.m, 2))"
   ]
  },
  {
   "cell_type": "markdown",
   "metadata": {},
   "source": [
    "# Intro"
   ]
  },
  {
   "cell_type": "markdown",
   "metadata": {},
   "source": [
    "Duncan Haldane from Princeton University will teach us about an interesting two dimensional toy-model which he [introduced](http://faculty.washington.edu/cobden/papers/haldane88.pdf) in 1988, and which has become a prototype for the anomalous quantum Hall effect."
   ]
  },
  {
   "cell_type": "code",
   "execution_count": null,
   "metadata": {
    "collapsed": false
   },
   "outputs": [],
   "source": [
    "MoocVideo(\"7nVO4uMm-do\", src_location='4.2-intro')"
   ]
  },
  {
   "cell_type": "markdown",
   "metadata": {},
   "source": [
    "We will now study the model in detail, starting from the beginning.  Along the way, we will also learn what's the Chern number, the bulk topological invariant of a quantum Hall state."
   ]
  },
  {
   "cell_type": "markdown",
   "metadata": {},
   "source": [
    "# Dirac cones in graphene"
   ]
  },
  {
   "cell_type": "markdown",
   "metadata": {},
   "source": [
    "In the last chapter we saw how it is possible to obtain a quantum Hall state by coupling one-dimensional systems. At the end, our recipe was to first obtain a Dirac cone, add a mass term to it and finally to make this mass change sign. Following this recipe we were able to obtain chiral edge states without applying an external magnetic field.\n",
    "\n",
    "There is a real (and a very important) two-dimensional system which has Dirac cones: [graphene](http://en.wikipedia.org/wiki/Graphene). So in this chapter we will take graphene and make it into a topological system with chiral edge states.\n",
    "\n",
    "Graphene is a single layer of carbon atoms arranged in a honeycomb lattice. It is a triangular lattice with two atoms per unit cell, type $A$ and type $B$, represented by red and blue sites in the figure:\n",
    "\n",
    "![](figures/graphene.svg)"
   ]
  },
  {
   "cell_type": "markdown",
   "metadata": {},
   "source": [
    "Hence, the wave function in a unit cell can be written as a vector $(\\Psi_A, \\Psi_B)^T$ of amplitudes on the two sites $A$ and $B$. Taking a simple tight-binding model where electrons can hop between neighboring sites with hopping strength $t$, one obtains the Bloch Hamiltonian:\n",
    "\n",
    "$$\n",
    "H_0(\\mathbf{k})= \\begin{pmatrix} 0 & h(\\mathbf{k}) \\\\ h^\\dagger(\\mathbf{k}) & 0 \\end{pmatrix}\\,,\n",
    "$$\n",
    "\n",
    "with $\\mathbf{k}=(k_x, k_y)$ and\n",
    "\n",
    "$$h(\\mathbf{k}) = t_1\\,\\sum_i\\,\\exp\\,\\left(i\\,\\mathbf{k}\\cdot\\mathbf{a}_i\\right)\\,.$$\n",
    "\n",
    "Here $\\mathbf{a}_i$ are the three vectors in the figure, connecting nearest neighbors of the lattice [we set the lattice spacing to one, so that for instance $\\mathbf{a}_1=(1,0)$].  Introducing a set of Pauli matrices $\\sigma$ which act on the sublattice degree of freedom, we can write the Hamiltonian in a compact form as\n",
    "\n",
    "$$H_0(\\mathbf{k}) = t_1\\,\\sum_i\\,\\left[\\sigma_x\\,\\cos(\\mathbf{k}\\cdot\\mathbf{a}_i)-\\sigma_y \\,\\sin(\\mathbf{k}\\cdot\\mathbf{a}_i)\\right]\\,.$$\n",
    "\n",
    "The energy spectrum $E(\\mathbf{k}) = \\pm \\,\\left|h(\\mathbf{k})\\right|$ gives rise to the famous band structure of graphene, with the two bands touching at the six corners of the Brillouin zone:"
   ]
  },
  {
   "cell_type": "code",
   "execution_count": null,
   "metadata": {
    "collapsed": false
   },
   "outputs": [],
   "source": [
    "p = SimpleNamespace(t=1.0, t_2=0, m=0, phi=np.pi/2)\n",
    "sys = haldane(boundary='infinite')\n",
    "k = (4 / 3) * np.linspace(-np.pi, np.pi, 150)\n",
    "spectrum(sys, p, k_x=k, k_y=k, title=title)"
   ]
  },
  {
   "cell_type": "markdown",
   "metadata": {},
   "source": [
    "Only two of these six Dirac cones are really distinct, they are located at $\\mathbf{K}=(2\\pi/3, 2\\pi/3\\sqrt{3})$ and $\\mathbf{K}'=(2\\pi/3, -2\\pi/3\\sqrt{3})$. All the others can be obtained by adding some reciprocal lattice vector to $\\mathbf{K}$ and $\\mathbf{K}'$."
   ]
  },
  {
   "cell_type": "markdown",
   "metadata": {},
   "source": [
    "# Discrete symmetries of graphene"
   ]
  },
  {
   "cell_type": "markdown",
   "metadata": {},
   "source": [
    "The symmetries of graphene were discussed intensively in the video, so let's review them.\n",
    "\n",
    "As we already said in our first week, graphene is the prototype of a system with sublattice symmetry, which makes the Hamiltonian block off-diagonal with respect to the two sublattices. The sublattice symmetry reads\n",
    "\n",
    "$$\\sigma_z\\,H_0(\\mathbf{k})\\,\\sigma_z = -H_0(\\mathbf{k})\\,,$$\n",
    "\n",
    "Sublattice symmetry is only approximate, and it is consequence of the nearest neighbor tight-binding model. Just like the inversion symmetry mentioned in the video, it protects the Dirac points and needs to be broken in order to open a gap."
   ]
  },
  {
   "cell_type": "markdown",
   "metadata": {},
   "source": [
    "In addition to sublattice and inversion symmetry, the honeycomb lattice also has a three-fold rotation symmetry around the center of the unit cell. This symmetry is important to make the Dirac cones appear in the first place, but it will not play a role in all that follows.\n",
    "\n",
    "Finally, there is time-reversal symmetry, which at the moment is perfectly preserved in our tight-binding model. Since we are not considering the spin degree of freedom of the electrons, the time-reversal symmetry operator in real space is just complex conjugation. In the momentum space representation, time-reversal symmetry reads\n",
    "\n",
    "$$ H_0(\\mathbf{k}) = H_0^*(-\\mathbf{k})\\,.$$"
   ]
  },
  {
   "cell_type": "markdown",
   "metadata": {},
   "source": [
    "It's important to note that time-reversal symmetry sends $\\mathbf{K}$ into $\\mathbf{K}'$ and therefore it exchanges the two Dirac cones.\n",
    "\n",
    "The product of (approximate) sublattice and time-reversal symmetry yields a further discrete symmetry - a particle-hole symmetry, $\\sigma_z H^*(-\\mathbf{k})\\,\\sigma_z = -H_0(\\mathbf{k})$."
   ]
  },
  {
   "cell_type": "markdown",
   "metadata": {},
   "source": [
    "# Making graphene topological"
   ]
  },
  {
   "cell_type": "markdown",
   "metadata": {},
   "source": [
    "Let's recall that our goal is to make our graphene sheet enter a quantum Hall state, with chiral edge states. The first necessary step is to make the bulk of the system gapped. \n",
    "\n",
    "How can we open a gap in graphene? The Dirac points are protected by both sublattice (inversion) and time-reversal symmetry. So there are many ways we can think of to open an energy gap at $\\mathbf{K}$ and $\\mathbf{K}'$."
   ]
  },
  {
   "cell_type": "markdown",
   "metadata": {},
   "source": [
    "## First try\n",
    "\n",
    "The easiest way to break sublattice symmetry is to assign an opposite onsite energy $M$ or $-M$ to the $A$ or $B$ sites respectively. The Hamiltonian is then given by\n",
    "\n",
    "$$ H_0(\\mathbf{k}) + M\\,\\sigma_z\\,.$$\n",
    "\n",
    "This leads to a gapped spectrum,\n",
    "\n",
    "$$E(\\mathbf{k})=\\pm \\sqrt{\\left|h(\\mathbf{k})\\right|^2 + M^2}\\,.$$\n",
    "\n",
    "We can quickly realize that in this way we end up in a rather boring situation though. Taking the limit $\\left|M\\right| \\gg t_1$, we obtain electronic states which are localized in one of the two sublattices $A$ or $B$, independently of the sign of $M$. Most of all, there is no trace of edge states.\n",
    "\n",
    "It's easy to see why this mass term is hopeless: it preserves time-reversal symmetry. And with the time-reversal symmetry present, it is definitely impossible to obtain chiral edge states."
   ]
  },
  {
   "cell_type": "markdown",
   "metadata": {},
   "source": [
    "## Second try\n",
    "\n",
    "There is another, more ingenious way to gap out the Dirac cones in graphene, which is the essence of today's model. It involves adding imaginary second-nearest neighbor hoppings, with the following distinctive pattern:\n",
    "\n",
    "![](figures/haldane_hoppings.svg)\n",
    "\n",
    "Here with the direction of the arrow we denote the direction in which the hopping is $+it_2$ (so it is $-it_2$ in the opposite direction)."
   ]
  },
  {
   "cell_type": "markdown",
   "metadata": {},
   "source": [
    "Note the following things about these hoppings:\n",
    "\n",
    "* they are purely imaginary and, furthermore, they all have the same chirality, in the sense that they all follow the orientation of your right hand, if the thumb points out from the screen.\n",
    "* they couple sites of same type: $A$ with $A$ and $B$ with $B$.\n",
    "\n",
    "These characteristics tell us that in this way we break both time-reversal symmetry and sublattice symmetry. In fact, the full Hamiltonian becomes\n",
    "\n",
    "$$\n",
    "H(\\mathbf{k}) = H_0(\\mathbf{k})+ M\\sigma_z + 2t_2\\sum_i\\,\\sigma_z\\,\\sin(\\mathbf{k}\\cdot\\mathbf{b}_i)\\,.\n",
    "$$\n",
    "\n",
    "The last term changes sign under time-reversal symmetry, breaking it. This is the Hamiltonian of the Haldane model."
   ]
  },
  {
   "cell_type": "markdown",
   "metadata": {},
   "source": [
    "Let's see what happens to the system when these special second neighbor hoppings are turned on:"
   ]
  },
  {
   "cell_type": "code",
   "execution_count": null,
   "metadata": {
    "collapsed": false
   },
   "outputs": [],
   "source": [
    "p = SimpleNamespace(t=1.0, m=0.2, phi=np.pi/2)\n",
    "sys = haldane(boundary='infinite')\n",
    "k = (4 / 3) * np.linspace(-np.pi, np.pi, 101)\n",
    "kwargs = {'k_x': k, 'k_y': k, 'title': title}\n",
    "t_2s = np.linspace(0, 0.12, 11)\n",
    "holoviews.HoloMap({t_2: spectrum(sys, p.update(t_2=t_2), **kwargs) for t_2 in t_2s}, kdims=[r'$t_2$'])"
   ]
  },
  {
   "cell_type": "markdown",
   "metadata": {},
   "source": [
    "When $t_2=0$ and at a finite $M$, the system is in a boring gapped phase, with generically no zero energy states. As you heard in the video, there might be zero energy states for some specific termination of the lattice, but these are not particularly interesting.\n",
    "\n",
    "Adding a small $t_2$ initially does not change the situation, but when $t_2$ passes through a value $\\pm M/3\\sqrt{3}$ the gap closes and changes sign. Importantly, the gap closes *only at one of the two Dirac points*: at $\\mathbf{K}'$ for $t_2=M/3\\sqrt{3}$ and at $\\mathbf{K}$ for $t_2=-M/3\\sqrt{3}$.\n",
    "\n",
    "And when it does, chiral edge states appear! We can see this by looking at the one-dimensional band structure of a ribbon of graphene. To convince you that they are of topological origin, let's look at the bandstructure for ribbons with two different lattice terminations: armchair and zigzag. In a zigzag ribbon, $\\mathbf{K}$ and $\\mathbf{K}'$ correspond to different momenta parallel to the ribbon direction, while in an armchair one they correspond to the same one."
   ]
  },
  {
   "cell_type": "code",
   "execution_count": null,
   "metadata": {
    "collapsed": false
   },
   "outputs": [],
   "source": [
    "def ribbon_bandstructure(t_2, boundary):\n",
    "    p = SimpleNamespace(t=1.0, t_2=t_2, m=0.2, phi=np.pi/2)\n",
    "\n",
    "    if boundary is 'zigzag':\n",
    "        sys = haldane(w=20, boundary='zigzag')\n",
    "    elif boundary is 'armchair':\n",
    "        sys = haldane(w=20, boundary='armchair', )\n",
    "        \n",
    "    style = {'k_x': np.linspace(-np.pi, np.pi, 101),\n",
    "             'xdim': r'$k$',\n",
    "             'ydim': r'$E/t$',\n",
    "             'xticks': pi_ticks,\n",
    "             'yticks': [-3, 0, 3],\n",
    "             'ylims': [-3.2, 3.2],\n",
    "             'title': title}\n",
    "    \n",
    "    return spectrum(sys, p, **style)\n",
    "\n",
    "t_2s = np.linspace(0, 0.5, 20)\n",
    "boundaries = ['zigzag', 'armchair']\n",
    "plots = {(t_2, boundary): ribbon_bandstructure(t_2, boundary) for t_2 in t_2s for boundary in boundaries}\n",
    "holoviews.HoloMap(plots, kdims=[r'$t_2$', 'Boundary'])"
   ]
  },
  {
   "cell_type": "markdown",
   "metadata": {},
   "source": [
    "The appearance of edge states means that graphene has entered a topological phase after the gap closing. This phase is akin to the quantum Hall phase - the edge states are of the same kind. However, as Duncan Haldane explained in the introduction, it is realized without a strong magnetic field.\n",
    "\n",
    "As you know, this means we have created a **Chern insulator**. The reason for this name will become obvious in the second part of the lecture."
   ]
  },
  {
   "cell_type": "code",
   "execution_count": null,
   "metadata": {
    "collapsed": false
   },
   "outputs": [],
   "source": [
    "question = (\"What happens if we take a Haldane model in the topological phase and turn \"\n",
    "            \"on a weak magnetic field?\")\n",
    "\n",
    "answers = [\"Magnetic field introduces Landau levels, which change the number of edge states.\",\n",
    "           \"Since magnetic field is weak, nothing changes as long as it doesn't close the gap\",\n",
    "           \"The bulk gap closes and there are no edge states anymore.\",\n",
    "           \"The gap doesn't close but the edge states may change direction \"\n",
    "           \"of propagation, depending on the sign of magnetic field.\"]\n",
    "\n",
    "explanation = \"Topological robustness is still present, so the number of edge states cannot change unless the gap closes.\"\n",
    "\n",
    "MoocMultipleChoiceAssessment(question=question, answers=answers, correct_answer=1, explanation=explanation)"
   ]
  },
  {
   "cell_type": "markdown",
   "metadata": {},
   "source": [
    "# Pumping in terms of Berry phase"
   ]
  },
  {
   "cell_type": "markdown",
   "metadata": {},
   "source": [
    "Last week we understood the quantum Hall effect in terms of a pumping argument that we attributed to Laughlin.\n",
    "\n",
    "Our pumping argument involved putting our system on a cylinder and adiabatically pumping flux $\\Phi$ through the cylinder so that the Hamiltonian returns to itself. The flux enters the Hamiltonian through minimal substitution as $H(\\mathbf{k})\\rightarrow H(\\mathbf{k}+e\\mathbf{A})$ where ${\\bf A}=\\hat{\\mathbf{y}}\\,\\Phi/L$.\n",
    "\n",
    "Thus we can understand the flux pumping in terms of changing momentum. When the flux is changed by the appropriate number of quanta, the momentum $\\mathbf{k}$ changes by a reciprocal lattice vector and the Bloch Hamiltonian returns to its original value. To simplify the discussion, in the following we will use a square Brillouin zone, with $k_x$ and $k_y$ defined in an interval $[0, 2\\pi]$ - all our arguments carry through also for the hexagonal Brillouin zone of graphene."
   ]
  },
  {
   "cell_type": "markdown",
   "metadata": {},
   "source": [
    "So let's consider the adiabatic time-evolution of an eigenstate $\\left|\\psi(\\mathbf{k})\\right\\rangle$ of this Hamiltonian, with energy $E(\\mathbf{k})$, as $\\mathbf{k}$ is changed slowly. Suppose the Hamiltonian is such that $\\left|\\psi(\\mathbf{k})\\right\\rangle$ remains non-degenerate as in the case of the Haldane model.  We can then adiabatically explore an energy band by moving $\\mathbf{k}$, without the risk of encountering a level crossing. After a while, let's say a time $T$, we bring $\\mathbf{k}$ back to its initial value after going round the entire Brillouin Zone. For instance, we can consider the following closed path $C$, where $k_y$ changes by $2\\pi$ at a fixed $k_x$, starting from $k_y=0$:\n",
    "\n",
    "![](figures/bz_path.svg)\n",
    "\n",
    "We then ask: what is the final quantum state at the time $T$? For a long time people guessed that it would just be given by the initial state $\\left|\\psi(k_x, k_y+2\\pi)\\right\\rangle\\equiv\\left|\\psi(k_x, k_y)\\right\\rangle$ times  the usual phase $\\exp\\left(-i \\int_0^T E[\\mathbf{k}(t)]\\,d t\\right)$, which an eigenstate of the Hamiltonian accumulates with time. "
   ]
  },
  {
   "cell_type": "markdown",
   "metadata": {},
   "source": [
    "This would be rather boring. Berry instead realized that for a closed loops there is an additional phase $\\gamma$, which in our case may depend on $k_x$:\n",
    "\n",
    "$$\\gamma(C) = \\oint_C\\,\\mathbf{A}(\\mathbf{k})\\,\\cdot d\\mathbf{k}\\,,$$\n",
    "\n",
    "with $\\mathbf{A}(\\mathbf{k})=i\\left\\langle\\,\\psi(\\mathbf{k}) \\,|\\,\\nabla_\\mathbf{k}\\,\\psi(\\mathbf{k})\\right\\rangle$ a vector with two complex entries, which are obtained by taking the derivatives of $\\left|\\psi(\\mathbf{k})\\right\\rangle$ with respect to $k_x$ and $k_y$ and then taking the inner product with $\\left\\langle\\psi(\\mathbf{k})\\right|$. This vector goes by the rather obscure name of Berry connection. Hence, the final quantum state at the end of the cycle is\n",
    "\n",
    "$$\\exp\\,\\left[i\\gamma(k_x)\\right]\\,\\exp\\,\\left(-i \\int_0^T E[\\mathbf{k}(t)]\\,d t\\right)\\,\\left|\\psi(\\mathbf{k})\\right\\rangle\\,.$$"
   ]
  },
  {
   "cell_type": "markdown",
   "metadata": {},
   "source": [
    "We have made explicit the fact that $\\gamma$ in our case may depend on $k_x$. We will not derive the formula for the Berry phase, something which can be done directly from the Schroedinger equation, see for instance [here](http://arxiv.org/abs/0907.2021). What is important to know about $\\gamma$ is that it is a **geometric phase**: its value depends on the path $C$ but not on how the path is performed in time, that is on the particular expression for $\\mathbf{k}(t)$. We'll soon see that sometimes it can have an even stronger, topological character.  "
   ]
  },
  {
   "cell_type": "markdown",
   "metadata": {},
   "source": [
    "## Flux pumping\n",
    "\n",
    "The phase $\\gamma(k_x)$ must bear information about the charge pumped during an adiabatic cycle over $k_y$. Now we take advantage of the fact that the pumped charge is invariant as long as the energy gap is preserved. This means that we have the freedom to change the energy dispersion $E(k_x,k_y)$ arbitrarily, as long as we do not close the gap.\n",
    "\n",
    "It is convenient to make the energy dispersion completely flat along the $k_x$ direction for $k_y=0$, analogously to the case of Landau levels. In this way, since at fixed $k_y$ all the wave functions have the same energy, we can choose our initial quantum states to be localized in a single unit cell in the $x$ direction,\n",
    "\n",
    "$$\\left|\\psi(n,t=0)\\right\\rangle=\\int_0^{2\\pi} dk_x\\, e^{i k_x n}\\,\\left|\\psi(k_x, k_y=0)\\right\\rangle\\,.$$\n",
    "\n",
    "Starting from this state, after one adiabatic cycle we obtain\n",
    "\n",
    "$$\\left|\\psi(n,t=T)\\right\\rangle=\\int_0^{2\\pi} dk_x\\, e^{i k_x n}\\,\\exp\\,\\left[i\\gamma(k_x)-i\\theta(k_x)\\right]\\,\\left|\\psi(k_x, k_y=2\\pi)\\right\\rangle,$$\n",
    "\n",
    "where $\\theta(k_x)=\\int_0^T E[k_x, k_y(t)]\\,d t$ is the dynamical phase. Now we notice something strange. While $\\theta(k_x)$ is a truly periodic function of $k_x$ because $E(k_x)=E(k_x+2\\pi)$, the only restriction on the Berry phase $\\gamma(k_x)$ is to be periodic modulo $2\\pi$. That is, we can have $\\gamma(k_x+2\\pi)=\\gamma(k_x)+2\\pi W$ with $W$ an integer number.\n",
    "\n",
    "Let's try to deform the dispersion along $k_y$ in order to make the combination $\\gamma(k_x)-\\theta(k_x)$ as much as possible (just like before, this is allowed as long as we do not close the gap). The best we can do is choose $\\theta(k_x)$ so that \n",
    "\n",
    "$$\\gamma(k_x)-\\theta(k_x)=W k_x.$$\n",
    "\n",
    "Plugging this in to the form of the wave-function we see that \n",
    "\n",
    "$$\\left|\\psi(n,t=T)\\right\\rangle=\\int dk_x e^{i k_x (n+W)}\\,\\left|\\psi(k_x, k_y=0)\\right\\rangle,$$\n",
    "\n",
    "which means that every wave function shifted over by $W$ unit cells. Thus the system with the wave functions $\\left|\\psi(\\mathbf{k})\\right\\rangle$ pumps $W$ units of charge if the Berry phase satisfies \n",
    "\n",
    "$$\\gamma(k_x+2\\pi)-\\gamma(k_x)=2\\pi W.$$\n",
    "\n",
    "> The quantity $W$ is called the **Chern number** and is the topological invariant characterizing the bandstructure of two dimensional quantum Hall systems. Because it is an integer, it cannot be changed by any continuous deformation of the Hamiltonian, provided the gap does not close. The Chern number is in fact the bulk topological invariant for all insulators with broken time-reversal symmetry. If $W=0$, we have a topologically trivial insulator with no chiral edge states. If $W=n$ there are $n$ chiral edge states at the boundary of the insulator."
   ]
  },
  {
   "cell_type": "markdown",
   "metadata": {},
   "source": [
    "# Compact form of the Chern number as Berry curvature"
   ]
  },
  {
   "cell_type": "markdown",
   "metadata": {},
   "source": [
    "We did not denote the Berry connection as $\\mathbf{A}(\\mathbf{k})$ just by chance. We picked that letter because this vector reminds us a lot of the vector potential $\\mathbf{A}(\\mathbf{r})$ that you use in electromagnetism.\n",
    "\n",
    "Just like the vector potential, the definition of $\\mathbf{A}(\\mathbf{k})$ depends on a particular choice of the person making the calculation. Because if you decide to multiply the quantum state by a phase, $\\left|\\psi(\\mathbf{k})\\right\\rangle\\,\\to \\exp\\,[i\\lambda(\\mathbf{k})]\\,\\left|\\psi(\\mathbf{k})\\right\\rangle$, then you get that the Berry connection transforms as $\\mathbf{A}(\\mathbf{k})\\,\\to\\,\\mathbf{A}(\\mathbf{k})+\\nabla_\\mathbf{k} \\,\\lambda$. However, when you take the integral of $\\mathbf{A}(\\mathbf{k})$ on a closed path, the result is independent of $\\lambda$. That's why the Berry phase is only meaningful for closed paths. \n",
    "\n",
    "Now that we have established an analogy with the vector potential, we cannot avoid the idea of taking the curl of the Berry connection, which is known as the **Berry curvature**:\n",
    "\n",
    "$$\\mathbf{\\Omega}(\\mathbf{k}) = \\nabla_\\mathbf{k} \\times \\mathbf{A}(\\mathbf{k})=\\left[\\left\\langle \\frac{\\partial \\psi(\\mathbf{k})}{\\partial k_x}\\,\\Bigg|\\,\\frac{\\partial\\,\\psi(\\mathbf{k})}{\\partial k_y}\\right\\rangle-\\left\\langle \\frac{\\partial \\psi(\\mathbf{k})}{\\partial k_y}\\,\\Bigg|\\,\\frac{\\partial\\,\\psi(\\mathbf{k})}{\\partial k_x}\\right\\rangle\\right]\\,.$$\n",
    "\n",
    "The Berry curvature is like a *magnetic field in momentum space*. Just like the magnetic field $\\mathbf{B}(\\mathbf{r})=\\nabla_\\mathbf{r}\\times\\mathbf{A}(\\mathbf{r})$ in electromagnetism, it is a local quantity which does not suffer from the ambiguities of the vector potential (it is gauge independent).\n",
    "\n",
    "The main advantage of introducing the analogy with the magnetic field is that it motivates us to use Stokes theorem. The Brillouin Zone has the shape of a torus. Therefore the curve $k_x=0$ and $k_x=2\\pi$ on the torus bounds the entire Brillouin zone. Using Stokes theorem on this curve we can conclude that \n",
    "\n",
    "$$2\\pi W=\\gamma(2\\pi)-\\gamma(0)=\\iint_{\\textrm{BZ}} \\mathbf{\\Omega}(\\mathbf{k})\\,\\cdot\\,d\\mathbf{S}\\,,$$\n",
    "\n",
    "where the integral extends on the entire Brillouin Zone.\n",
    "\n",
    "> As a result of this formalism, we have established two things. First, there is a Chern number which is defined entirely in terms of the momentum space wave functions. Second, the analogy with the magnetic field allows us to calculate an explicit expression in terms of derivatives of the wave functions.\n",
    "\n",
    "Loosely speaking, a situation with a non-zero Chern number is a bit like having a magnetic monopole, because we have a finite flux coming out of a closed surface. Now, you probably know that experimentally a magnetic monopole was never observed. For our Chern number in the Brillouin zone the situation is more exciting, as situations where it is non-zero are realized in nature.\n",
    "\n",
    "To see how this can happen, we first have to understand the following: if there is Berry curvature in the Brillouin zone, what are its sources?"
   ]
  },
  {
   "cell_type": "markdown",
   "metadata": {},
   "source": [
    "# Gap closings are sources of Berry curvature"
   ]
  },
  {
   "cell_type": "markdown",
   "metadata": {},
   "source": [
    "The Berry phase can only be computed only if the Hamiltonian has a gap. For a Hamiltonian $H(\\mathbf{k})$ with many bands $E_n(\\mathbf{k})$, this means that we can compute the Chern number only for an isolated band $E_n(\\mathbf{k})$ which does not touch any other band. If there is a band touching, the Berry phase is undefined.\n",
    "\n",
    "Now let's go back to our analogy with electromagnetism. We know that we cannot compute the electric or magnetic flux through a surface if there are electric or magnetic charges sitting exactly on it. That's because the electric or magnetic fields are *not defined* at the points where their sources are."
   ]
  },
  {
   "cell_type": "markdown",
   "metadata": {},
   "source": [
    "This analogy suggests the following: that the sources for Berry flux in momentum space are points where two bands touch, just like the Dirac points at the $\\mathbf{K}$ and $\\mathbf{K}'$ points of the Brillouin zone in graphene.\n",
    "\n",
    "This may sound a bit abstract and confusing: where are these points located? We are used to thinking about sources of flux in real space, less in momentum space. In fact, just like you do with a two-dimensional sphere surrounding a charge in three-dimensional space, you can think of the Brillouin zone as lying in a three-dimensional space, with two directions given by $k_x$ and $k_y$ and the third given by the **magnitude of the energy gap**. \n",
    "\n",
    "The situation is explained by the following sketch, which also gives an eye-bird view of the phase diagram of the Haldane model as a function of the ratio $t_2/M$:\n",
    "\n",
    "![](figures/phasediagram.svg)"
   ]
  },
  {
   "cell_type": "markdown",
   "metadata": {},
   "source": [
    "What you see in the sketch above is a schematic illustration of the energy spectrum close to the Dirac points in the Brillouin zone, for some representative values of $t_2/M$ (for simplicity we drew the Brillouin zone as a square and not a hexagon, but that's not essential). The two massless Dirac cones appearing for $t_2=\\pm M/(3\\sqrt{3})$ are the sources of the Berry curvature, which then “spreads“ along the vertical axis, passing through the Brillouin zones of the gapped phases.\n",
    "\n",
    "The $t_2=0$ Brillouin zone is “sandwiched“ between the two gap closings: it has opposite curvature for the two Dirac points, and a total Chern number of zero.\n",
    "\n",
    "The Brillouin zones for $|t_2|>M/(3\\sqrt{3})$, on the other hand, have Berry curvature with the same sign for both Dirac points, and a total Chern number equal to $\\pm 1$.\n",
    "\n",
    "Too see this more clearly, we can compute the Berry curvature numerically and plot it over the whole Brillouin zone as a function of $t_2$:"
   ]
  },
  {
   "cell_type": "code",
   "execution_count": null,
   "metadata": {
    "collapsed": false
   },
   "outputs": [],
   "source": [
    "p = SimpleNamespace(t=1.0, m=0.2, phi=np.pi/2)\n",
    "sys = haldane(boundary='infinite')\n",
    "kwargs = {'title': title, 'ks': np.linspace(-2*np.pi, 2*np.pi, 150, endpoint=False)}\n",
    "t_2s = np.linspace(-0.1, 0.1, 11)\n",
    "holoviews.HoloMap({t_2: plot_berry_curvature(sys, p.update(t_2=t_2), **kwargs) for t_2 in t_2s}, kdims=[r'$t_2$'])"
   ]
  },
  {
   "cell_type": "code",
   "execution_count": null,
   "metadata": {
    "collapsed": false
   },
   "outputs": [],
   "source": [
    "question = \"How does time-reversal symmetry influence the Berry curvature?\"\n",
    "\n",
    "answers = [\"The Berry curvature breaks time-reversal, so it must be zero if time-reversal is present.\",\n",
    "           \"Time reversal symmetry doesn't constrain Berry curvature at all.\",\n",
    "           \"There is no constraint, only the integral of Berry curvature (Chern number) should be zero.\",\n",
    "           \"The Berry curvature and momentum change sign under time-reversal, so that the Berry curvature \"\n",
    "           \"at one momentum becomes opposite to the Berry curvature at opposite momentum.\"]\n",
    "\n",
    "MoocMultipleChoiceAssessment(question=question, answers=answers, correct_answer=3)"
   ]
  },
  {
   "cell_type": "markdown",
   "metadata": {},
   "source": [
    "You can see that the Berry curvature is really located around the Dirac points. Around $t_2=0$, the two Dirac points give canceling contributions. After a gap closing however, the contribution of one of the two Dirac points changes sign, so that the two add to $\\pm 1$ instead of canceling each other.\n",
    "\n",
    "From both the plots above, you can also infer that each Dirac point always contributes a Berry curvature equal to $\\pm 1/2$, depending on the sign of the mass in the effective Dirac Hamiltonian. We always obtain an integer number because the number of Dirac points in the Brillouin zone is even. It also implies that when the gap changes sign at a Dirac point, the Chern number changes by exactly one!"
   ]
  },
  {
   "cell_type": "markdown",
   "metadata": {},
   "source": [
    "At the same time it's important to know that the particular distribution of the Berry curvature depends on all the details of the eigenstates of the Hamiltonian, so it changes a lot from model to model. And in fact, it is a special feature of the Haldane model that the Berry curvature is focused around two distinct points in the Brillouin zone.\n",
    "\n",
    "For instance, here is a slider plot for the Berry curvature for the quantum Hall lattice model studied in the previous chapter."
   ]
  },
  {
   "cell_type": "code",
   "execution_count": null,
   "metadata": {
    "collapsed": false
   },
   "outputs": [],
   "source": [
    "p = SimpleNamespace(t=1.0, mu=1, delta=1., gamma=-0.5)\n",
    "sys = Qi_Wu_Zhang()\n",
    "plot_berry_curvature(sys, p)\n",
    "\n",
    "def title_Qi(p):\n",
    "    title = r'$t={t}$, $\\mu={mu}$, $\\Delta={delta}$, $\\gamma={gamma}$'\n",
    "    return title.format(t=np.round(p.t, 2), \n",
    "                        mu=np.round(p.mu, 2), \n",
    "                        delta=np.round(p.delta, 2),\n",
    "                        gamma=np.round(p.gamma, 2))\n",
    "\n",
    "kwargs = {'title': title_Qi}\n",
    "mus = np.linspace(-2, 0, 11)\n",
    "holoviews.HoloMap({mu: plot_berry_curvature(sys, p.update(mu=mu), **kwargs) for mu in mus}, kdims=[r'$\\mu$'])"
   ]
  },
  {
   "cell_type": "markdown",
   "metadata": {},
   "source": [
    "You can see that for $\\mu < -2t - 2\\gamma$ there is a net curvature, and that when $\\mu = -2t - 2\\gamma$ some flux of opposite sign appears at $k_x = k_y=0$, the Dirac point, which leaves no net curvature and leads to a change in the Chern number. This is the signature of the topological transition seen from the Berry curvature."
   ]
  },
  {
   "cell_type": "markdown",
   "metadata": {},
   "source": [
    "# Summary: extending the model to spinful electrons and photons"
   ]
  },
  {
   "cell_type": "code",
   "execution_count": null,
   "metadata": {
    "collapsed": false
   },
   "outputs": [],
   "source": [
    "MoocVideo(\"0gxE68kvdmw\", src_location='4.2-summary')"
   ]
  },
  {
   "cell_type": "markdown",
   "metadata": {},
   "source": [
    "**Questions about what you just learned? Ask them below!**"
   ]
  },
  {
   "cell_type": "code",
   "execution_count": null,
   "metadata": {
    "collapsed": false
   },
   "outputs": [],
   "source": [
    "MoocDiscussion(\"Questions\", \"Haldane model\")"
   ]
  }
 ],
 "metadata": {
  "kernelspec": {
   "display_name": "Python 3",
   "language": "python",
   "name": "python3"
  },
  "language_info": {
   "codemirror_mode": {
    "name": "ipython",
    "version": 3
   },
   "file_extension": ".py",
   "mimetype": "text/x-python",
   "name": "python",
   "nbconvert_exporter": "python",
   "pygments_lexer": "ipython3"
  }
 },
 "nbformat": 4,
 "nbformat_minor": 0
}
