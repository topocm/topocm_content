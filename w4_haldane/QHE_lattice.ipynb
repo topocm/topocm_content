{
 "cells": [
  {
   "cell_type": "code",
   "execution_count": null,
   "metadata": {
    "collapsed": false
   },
   "outputs": [],
   "source": [
    "import sys\n",
    "sys.path.append('../code')\n",
    "from init_mooc_nb import *\n",
    "init_notebook()\n",
    "%output size=150\n",
    "pi_ticks = [(-np.pi, r'$-\\pi$'), (0, '0'), (np.pi, r'$\\pi$')]\n",
    "\n",
    "\n",
    "def Qi_Wu_Zhang(w=None):\n",
    "    def onsite(site, p):\n",
    "        return - p.mu * pauli.sz\n",
    "    \n",
    "    def hopx(site1, site2, p):\n",
    "        return - 0.5j * p.delta * pauli.sy - p.t * pauli.sz\n",
    "    \n",
    "    def hopy(site1, site2, p):\n",
    "        return - 1j * p.gamma * pauli.sx  - p.gamma * pauli.sz  \n",
    "    \n",
    "    lat = kwant.lattice.square()\n",
    "\n",
    "    if w == None:\n",
    "        sys = kwant.Builder(kwant.TranslationalSymmetry(*lat.prim_vecs))\n",
    "        sys[lat.shape(lambda pos: True, (0, 0))] = onsite\n",
    "    else:\n",
    "        def ribbon_shape(pos):\n",
    "            (x, y) = pos\n",
    "            return (0 <= y < w )\n",
    "        sym = kwant.TranslationalSymmetry((1, 0))\n",
    "        sys = kwant.Builder(sym)\n",
    "        sys[lat.shape(ribbon_shape, (0, 0))] = onsite\n",
    "\n",
    "    sys[kwant.HoppingKind((1,0), lat)] = hopx\n",
    "    sys[kwant.HoppingKind((0,1), lat)] = hopy\n",
    "    return sys\n",
    "\n",
    "\n",
    "def title(p):\n",
    "    title = r\"$t={:.2}$, $\\mu={:.2}$, $\\Delta={:.2}$, $\\gamma={:.2}$\"\n",
    "    title = title.format(p.t, p.mu, p.gamma, p.delta)\n",
    "    return title"
   ]
  },
  {
   "cell_type": "markdown",
   "metadata": {},
   "source": [
    "## Quantum Hall effect on a lattice and the Dirac Hamiltonian\n",
    "* Pairs of chiral edges in a 1D wire\n",
    "* Coupling wires and QHE without field\n",
    "* Dirac equation at the phase transition"
   ]
  },
  {
   "cell_type": "markdown",
   "metadata": {},
   "source": [
    "# Introduction: stacking wires"
   ]
  },
  {
   "cell_type": "markdown",
   "metadata": {},
   "source": [
    "Looking back at the material from the past weeks, you might have the impression that the quantum Hall effect and the one dimensional topological superconductors are really different topics, not connected at all.\n",
    "\n",
    "Xiaoliang Qi from Stanford University will now explain that this is not the case, and will also introduce this week's topic - Chern insulators."
   ]
  },
  {
   "cell_type": "code",
   "execution_count": null,
   "metadata": {
    "collapsed": false
   },
   "outputs": [],
   "source": [
    "MoocVideo(\"osKP6x0Ewbo\", src_location=\"4.1-intro\")"
   ]
  },
  {
   "cell_type": "markdown",
   "metadata": {},
   "source": [
    "# Pairs of chiral edges in a 1D wire"
   ]
  },
  {
   "cell_type": "markdown",
   "metadata": {},
   "source": [
    "Last week, we started by a phenomenological description of the quantum Hall effect. We learned that one way to get a quantum Hall state is to place electrons in an external magnetic field.\n",
    "\n",
    "However, we still don't have a simple lattice Hamiltonian describing the quantum Hall effect - we'd like to have something like the Kitaev chain model, which was very useful to understand Majoranas in the first two weeks of the course. In its simplest incarnation, such a lattice model would not have an external magnetic field. If we could construct such a lattice model, then we would also have a guide to find materials that could display the amazing properties of the quantum Hall effect without having to subject them to a strong magnetic field.\n",
    "\n",
    "These models exist, and they are referred to as **Chern insulators**. The quantum Hall effect without an external magnetic field is also referred to as the **quantum anomalous Hall effect**. Duncan Haldane, from who we will hear in the next chapter, constructed the first model for a Chern insulator. However, in this chapter, we will use a more natural route that fits better into the context of our course so far."
   ]
  },
  {
   "cell_type": "markdown",
   "metadata": {},
   "source": [
    "## General strategy to construct a lattice model for the Quantum Hall Effect\n",
    "\n",
    "What we will do to get a model for a Chern insulator is to follow a \"domino prescription\", as we did to get the Kitaev model in week 1. Our strategy will have two key aspects:\n",
    "\n",
    "* Focusing on the unique property of the quantum Hall edge that cannot exist in isolation from a bulk, and can only present because of the bulk-boundary correspondence. For the Kitaev chain, this property was the presence of unpaired Majorana modes. In the quantum Hall effect,  it's the chiral edge states which are special.\n",
    "\n",
    "* Finding a lower dimensional building block, from which we can somehow “extract“ in a clever way the exotic object we are interested in. In the Kitaev chain, these were the fermionic sites, which we could think of as a pair of Majorana modes.\n",
    "\n",
    "So we need to find a one dimensional system which can host a pair of chiral edge states. Purely in one dimension, these states will necessarily be spatially on top of each other, essentially a pair of propagating modes with opposite velocity. Once we have this building block, we can then follow the domino prescription, coupling the chiral states in pairs as we did with Majorana modes, and be left with a pair of separated chiral edge states, as in a quantum Hall bar.\n",
    "\n",
    "So our plan is to turn the system on the left into the system on the right:"
   ]
  },
  {
   "cell_type": "markdown",
   "metadata": {},
   "source": [
    "![](figures/coupled_chains.svg)"
   ]
  },
  {
   "cell_type": "markdown",
   "metadata": {},
   "source": [
    "Voila - we have a lattice model for 2D quantum Hall state!"
   ]
  },
  {
   "cell_type": "markdown",
   "metadata": {},
   "source": [
    "## Getting a one dimensional wire with a pair of edge states\n",
    "\n",
    "Let's focus on the first essential step of our plan: finding a one dimensional system with a pair of counter-propagating chiral states.\n",
    "\n",
    "You might guess that the easiest way to get a pair of states moving in opposite direction is to take usual one dimensional electrons  with an effective mass. Such a system has a parabolic dispersion and the low energy excitations at a finite Fermi wave-vector $k=\\pm k_F$ move in opposite directions. The catch is that this pair of states occur at different momenta and it is tricky (though not impossible) to deal with momentum conservation when pairing the edges. So we will avoid this approach.\n",
    "\n",
    "The next guess we make is based on a model that we have already encountered, i.e. the Dirac model $H= \\Delta\\,k\\, \\tau_y$, which described the Kitaev chain at the topological phase transition.\n",
    "\n",
    "More specifically, in the first week we wrote the Kitaev Hamiltonian in momentum space in week as $H(k)=-(2 t\\cos{k}+\\mu)\\,\\tau_z+\\Delta \\sin{k}\\tau_y$.  At the critical point $\\mu=-2t$, we found that the Kitaev Hamiltonian to be \n",
    "\n",
    "$$H=-2t(\\cos{k}-1)\\,\\tau_z+\\Delta\\sin{k}\\,\\tau_y.$$\n",
    "\n",
    "Looking at $H$ we see that at $k\\approx 0$ we have a pair of chiral states, with opposite velocity depending on the eigenvalue $\\pm 1$ of $\\tau_y$.\n",
    "\n",
    "You might worry at this point that the Kitaev model has superconductivity, and so the $\\tau$ matrices refer to particle and hole degrees of freedom. Indeed, these ingredients should not enter in the description of the quantum Hall effect. But this is not a real issue, because we will interpret the $\\tau$ matrices as acting in the space of left- and right-movers. This flexibility in interpreting the Hamiltonian terms in different ways, depending on the context, is part of the advantage that comes from thinking in terms of toy models.\n",
    "\n",
    "As a final remark before we go on with our plan, keep in mind that considering the phase transition point of a lower dimensional model turns out to be a fairly generic strategy to construct higher dimensional topological models."
   ]
  },
  {
   "cell_type": "code",
   "execution_count": null,
   "metadata": {
    "collapsed": false
   },
   "outputs": [],
   "source": [
    "question = (\"It seems that both a quantum Hall bar and a Kitaev chain can have chiral states. \"\n",
    "            \"Apart from the fact that the two systems have different dimensionality\"\n",
    "            \", what's the fundamental difference between the two cases?\")\n",
    "answers = [\"The quantum Hall edge states go in opposite directions, while the Kitaev states go in the same direction.\",\n",
    "           \"The quantum Hall edge states go in the same direction, while the Kitaev states go in opposite directions.\",\n",
    "           \"The quantum Hall edges always cross zero energy at zero momentum while the Kitaev states don't.\",\n",
    "           (\"The Kitaev chiral states exist only at specific parameter values, \"\n",
    "            \"while the quantum Hall edge states don't.\")]\n",
    "explanation = (\"The pair of chiral states in the Kitaev model only exists at \"\n",
    "               \"the phase transition point, when the chain becomes gapless. \"\n",
    "               \"On the other hand, chiral edge states are a topological property of the quantum Hall state. \"\n",
    "               \"They are separated by a gapped bulk which protects them, and they exist for a full range of parameter values.\")\n",
    "MoocMultipleChoiceAssessment(question, answers, correct_answer=3, explanation=explanation)"
   ]
  },
  {
   "cell_type": "markdown",
   "metadata": {},
   "source": [
    "# QHE without a magnetic  field"
   ]
  },
  {
   "cell_type": "markdown",
   "metadata": {},
   "source": [
    "## Deriving the model Hamiltonian\n",
    "\n",
    "Let us now couple the wires to get the quantum Hall system as promised. We take a stack of chains all extending along the horizontal $x$ direction, like in the figure above. We place them one next to the other on the $y$ direction, so that we form a square lattice. If we take a large (ideally infinite) stack of chains we have a truly two-dimensional system.\n",
    "\n",
    "Now let us make this formal by first labeling the chains by an index $n_y$, which takes integer values. Let us also replace $k\\rightarrow k_x$ to denote the wave-vector along a chain. Hence a single chain has a Hamiltonian $\\left[-(2 t\\cos{k_x}+\\mu)\\,\\tau_z+\\Delta \\sin{k_x}\\tau_y\\right]\\,\\otimes\\,\\left|\\,n_y\\right\\rangle\\left\\langle n_y\\right|$. The projector $\\left|\\,n_y\\right\\rangle\\left\\langle n_y\\right|$ is needed to single out one chain out of the stack. \n",
    "\n",
    "Now all that we have to do is to couple the $\\tau_y=-1$ branch of one chain to the $\\tau_y=+1$ branch of a neighboring chain,  and we will have a quantum Hall state.\n",
    "\n",
    "A term coupling opposite movers from different chains can be written as as a tensor product $\\left|\\,n_y\\right\\rangle\\left\\langle n_y+1\\right|\\otimes (\\tau_z+i\\tau_x)$. The first part couples neighboring chains and the matrix $(\\tau_z+i\\tau_x)$ turns a right mover into a left mover, just like we want. Let's call the strength of this coupling $\\gamma$.\n",
    "\n",
    "To obtain the complete Hamiltonian of the stack of chains we just need to sum over $n_y$, and we obtain\n",
    "\n",
    "$$H=\\sum_{n_y}\\,\\left[-(2 t\\cos{k_x}+\\mu)\\tau_z+\\Delta \\sin{k_x}\\tau_y\\right]\\,\\otimes\\,\\left|\\,n_y\\right\\rangle\\left\\langle n_y\\right|\\,-\\,\\gamma\\,\\sum_{n_y}\\,\\left[\\left|\\,n_y\\right\\rangle\\left\\langle n_y+1\\right|\\otimes (\\tau_z+i\\tau_x)\\,+\\,\\textrm{h.c.}\\right].$$\n",
    "\n",
    "This Hamiltonian should in principle suffice to produce a quantum Hall state."
   ]
  },
  {
   "cell_type": "markdown",
   "metadata": {},
   "source": [
    "## Gap and edge states\n",
    "\n",
    "Let's first consider a finite number of chains $n_y=1,\\dots,N$. If you tune each chain individually to the point $\\mu = -2t$, it's easy to check that at $k_x \\approx 0$ the above Hamiltonian has one right-moving edge eigenstate for $n_y=1$ with eigenvalue $\\approx \\Delta \\, k_x$, and a left-moving edge eigenstate for $n_y=N$  with eigenvalue $\\approx -\\Delta\\,k_x$.\n",
    "\n",
    "The next thing we need to check is that these are the only eigenstates close to zero energy. In other words, is the system gapped in the two-dimensional bulk?  To see this, let's switch to an infinite stack of chain along the $y$ direction. We then have full translational invariance, so we can go to momentum space in the $y$ direction.\n",
    "\n",
    "This leads us to the two-dimensional Bloch Hamiltonian \n",
    "\n",
    "$$H(k_x,k_y)=[-(2t\\cos{k_x}+\\mu)\\tau_z+\\Delta\\sin{k_x}\\tau_y]-2\\gamma\\,[\\cos{k_y}\\tau_z+\\sin{k_y}\\tau_x].$$ \n",
    "\n",
    "Since this Hamiltonian is a sum of three Pauli matrices, the energy spectrum can be written down as \n",
    "\n",
    "$$E(k_x,k_y)=\\pm\\sqrt{\\Delta^2\\sin^2{k_x}+(2\\gamma\\cos{k_y}+\\mu+2t\\cos{k_x}))^2+4\\gamma^2\\sin^2{k_y}}.$$ \n",
    "\n",
    "Except from special points, this spectrum is gapped, just like we wanted. For instance it is gapped if $\\mu<-2t-2\\gamma$. If we start from this point and increase the value of $\\mu$, the gap closes at the point $\\mu = -2t-2\\gamma$ and then reopens:"
   ]
  },
  {
   "cell_type": "code",
   "execution_count": null,
   "metadata": {
    "collapsed": false
   },
   "outputs": [],
   "source": [
    "p = SimpleNamespace(t=1.0, delta=0.3, gamma=-.5, mu=None)\n",
    "sys = Qi_Wu_Zhang()\n",
    "mus = np.linspace(-2, 0, 11)\n",
    "holoviews.HoloMap({p.mu: spectrum(sys, p, zticks=[-4, -2, 0, 2, 4], title=title)\n",
    "                   for p.mu in mus}, kdims=[r'$\\mu$'])"
   ]
  },
  {
   "cell_type": "markdown",
   "metadata": {},
   "source": [
    "As a check that everything worked, let's look at the dispersion of a ribbon with finite width along the $y$ direction. If there are edge states, we should see a Dirac-like crossing around $k_x=0$."
   ]
  },
  {
   "cell_type": "code",
   "execution_count": null,
   "metadata": {
    "collapsed": false
   },
   "outputs": [],
   "source": [
    "p = SimpleNamespace(t=1.0, delta=0.3, gamma=-0.5, mu=None)\n",
    "sys = Qi_Wu_Zhang(w=15)\n",
    "mus = np.linspace(-2, 0, 11)\n",
    "\n",
    "style = {'xdim': r'$k$',\n",
    "         'ydim': r'$E/t$',\n",
    "         'xticks': pi_ticks,\n",
    "         'yticks': [-2, 0, 2],\n",
    "         'ylims': [-2.2, 2.2],\n",
    "         'title': title}\n",
    "\n",
    "holoviews.HoloMap({p.mu: spectrum(sys, p, **style) for p.mu in mus}, kdims=[r'$\\mu$'])"
   ]
  },
  {
   "cell_type": "markdown",
   "metadata": {},
   "source": [
    "We see that the crossing is there, and it disappears when the gap closes. So we can identify the point $\\mu=-2t-2\\gamma$ as a critical point at which the quantum Hall state becomes topologically trivial.\n",
    "\n",
    "While details such as the bulk spectrum and edge dispersion are different from the magnetic field case, the bulk-edge correspondence tells us that the edge states are as robust as those of the quantum Hall effect we studied last week."
   ]
  },
  {
   "cell_type": "code",
   "execution_count": null,
   "metadata": {
    "collapsed": false
   },
   "outputs": [],
   "source": [
    "question = (\"How does our lattice model with no magnetic field differ from the original quantum Hall effect?\")\n",
    "answers = [\"Since there is no magnetic field the quantum Hall effect on a lattice preserves time reversal symmetry.\",\n",
    "           \"Quantum Hall effect in a magnetic field has Landau levels \"\n",
    "           \"that do not disperse in k while they disperse in the lattice.\",\n",
    "           \"Quantum Hall effect in the lattice has no chiral edge states, which arise from skipping orbits in a magnetic field.\",\n",
    "           \"In a magnetic field the filling fraction is fixed to integer per flux quantum, while in the \"\n",
    "           \"lattice the filling fraction per unit cell is arbitrary.\"]\n",
    "explanation = (\"In a lattice one gets a non-constant bandstructure which forms a Dirac cone near the phase transition.\")\n",
    "MoocMultipleChoiceAssessment(question, answers, correct_answer=1, explanation=explanation)"
   ]
  },
  {
   "cell_type": "markdown",
   "metadata": {},
   "source": [
    "# Dirac equation at the phase transition"
   ]
  },
  {
   "cell_type": "markdown",
   "metadata": {},
   "source": [
    "Back in week 1, we saw with the Kitaev chain that the \"domino argument\" led to two distinct phases. The same is true for our model, even though the parameter space is larger than before, with three distinct parameters $\\mu, t, \\gamma$, and we have not explored it fully. But let's not worry about establishing the full phase diagram. For now it's more interesting to study the transition point we have found.\n",
    "\n",
    "The two phases around this point are easy to understand. One is the quantum Hall phase with chiral edge states, which was our initial goal. The other one is a topologically trivial. This one can be understood by first taking $\\mu$ very positive and large, and then taking $\\gamma\\to 0$. Then we have just a bunch of gapped 1D chains next to each other without any tunneling between them. This is a trivial phase with no edge states."
   ]
  },
  {
   "cell_type": "markdown",
   "metadata": {},
   "source": [
    "It is once again useful to write down the effective Hamiltonian near to the transition point at $k_x\\approx 0$ and $k_y\\approx 0$. This is given by a 2D Dirac Hamiltonian:\n",
    "\n",
    "\n",
    "$$H_{\\textrm{Dirac}}=[\\Delta k_x\\tau_y-2\\gamma k_y\\tau_x+m\\tau_z],$$ \n"
   ]
  },
  {
   "cell_type": "markdown",
   "metadata": {},
   "source": [
    "The combination $m=-(\\mu +2t+2\\gamma)$ serves as the 'mass' in this Dirac model. Again as before, we see that the gapless phase transition point at $m=0$ is described by a massless Dirac theory. The phase transition separates the topological from the trivial phase, and the two phases are characterized by a different sign of the mass (in this case $m>0$ in the topological phase and $m<0$ in the trivial phase)."
   ]
  },
  {
   "cell_type": "markdown",
   "metadata": {},
   "source": [
    "As with Kitaev chains, the Dirac model gives us another way to construct chiral edge states at the domain wall between topological and non-topological phases. Back in week 1 we saw that a mass $m$ domain wall in a one dimensional Dirac model supports a \n",
    "non-degenerate zero mode. Fixing  $k_y=0$, we see that the one dimensional Dirac Hamiltonian here is identical to the one we saw in week 1 where the zero mode was an eigenstate of $\\tau_x=+1$ at the domain wall between $m<0$ and $m>0$. "
   ]
  },
  {
   "cell_type": "markdown",
   "metadata": {},
   "source": [
    "Unlike the one-dimensional case, the zero mode is not stationary in the two dimensional case. By adding $2\\gamma k_y\\tau_x$ as a perturbation, we see that the energy of the state increases as \n",
    "\n",
    "$$\\epsilon(k_y)\\approx 2\\gamma k_y\\,,$$\n",
    "\n",
    "so it has a velocity $v=2\\gamma$, which is in a particular direction depending on the sign of $\\gamma$. So we see how to get the chiral edge modes analytically."
   ]
  },
  {
   "cell_type": "markdown",
   "metadata": {},
   "source": [
    "# Conclusion"
   ]
  },
  {
   "cell_type": "code",
   "execution_count": null,
   "metadata": {
    "collapsed": false
   },
   "outputs": [],
   "source": [
    "MoocVideo(\"CXgAcOOVlag\", src_location='4.1-summary')"
   ]
  },
  {
   "cell_type": "markdown",
   "metadata": {},
   "source": [
    "**Questions about what you learned? Ask them below**"
   ]
  },
  {
   "cell_type": "code",
   "execution_count": null,
   "metadata": {
    "collapsed": false
   },
   "outputs": [],
   "source": [
    "MoocDiscussion('Questions', 'Chern insulators')"
   ]
  }
 ],
 "metadata": {
  "kernelspec": {
   "display_name": "Python 3",
   "language": "python",
   "name": "python3"
  },
  "language_info": {
   "codemirror_mode": {
    "name": "ipython",
    "version": 3
   },
   "file_extension": ".py",
   "mimetype": "text/x-python",
   "name": "python",
   "nbconvert_exporter": "python",
   "pygments_lexer": "ipython3"
  }
 },
 "nbformat": 4,
 "nbformat_minor": 0
}
